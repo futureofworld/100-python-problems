{
  "nbformat": 4,
  "nbformat_minor": 0,
  "metadata": {
    "colab": {
      "name": "11-20python_practice_problems.ipynb",
      "provenance": [],
      "authorship_tag": "ABX9TyOI9UyJaeHUlmN0Da1e4XdC",
      "include_colab_link": true
    },
    "kernelspec": {
      "name": "python3",
      "display_name": "Python 3"
    },
    "language_info": {
      "name": "python"
    }
  },
  "cells": [
    {
      "cell_type": "markdown",
      "metadata": {
        "id": "view-in-github",
        "colab_type": "text"
      },
      "source": [
        "<a href=\"https://colab.research.google.com/github/futureofworld/100-python-problems/blob/main/11_20python_practice_problems.ipynb\" target=\"_parent\"><img src=\"https://colab.research.google.com/assets/colab-badge.svg\" alt=\"Open In Colab\"/></a>"
      ]
    },
    {
      "cell_type": "markdown",
      "source": [
        "# Q11. Write a program to find the simple interest when the value of principle,rate of interest and time period is given."
      ],
      "metadata": {
        "id": "zj8L6yXdvuiW"
      }
    },
    {
      "cell_type": "code",
      "execution_count": 3,
      "metadata": {
        "colab": {
          "base_uri": "https://localhost:8080/"
        },
        "id": "HraT5DZwvhnE",
        "outputId": "835367cc-a59f-44f2-9483-38f45740fc4a"
      },
      "outputs": [
        {
          "output_type": "stream",
          "name": "stdout",
          "text": [
            "Enter Principle amount: 100000\n",
            "Enter Rate of Interest: 8\n",
            "Enter time period: 1\n",
            "900000 is the simple interest for your principle amount\n"
          ]
        }
      ],
      "source": [
        "# A = P (1 + rt)\n",
        "principle = int(input('Enter Principle amount: '))\n",
        "roi = int(input('Enter Rate of Interest: ')) # in years\n",
        "time = int(input('Enter time period: ')) # in years\n",
        "simpleInterest = principle*(1 + roi*time)\n",
        "print(f'{simpleInterest} is the simple interest for your principle amount')"
      ]
    },
    {
      "cell_type": "markdown",
      "source": [
        "# Q12. Write a program to find the volume of the cylinder. Also find the cost when ,when the cost of 1litre milk is 40Rs."
      ],
      "metadata": {
        "id": "FHwZK6Ygw9SU"
      }
    },
    {
      "cell_type": "code",
      "source": [
        "radius = int(input('Enter radius in meter: '))\n",
        "length = int(input('Enter length in meter: '))\n",
        "volume = 3.14 * (radius**2) * length\n",
        "cost = 40 * volume\n",
        "print(f'cost of {volume} liter milk is {cost:.2f}')"
      ],
      "metadata": {
        "colab": {
          "base_uri": "https://localhost:8080/"
        },
        "id": "3fL0ZsTEwerN",
        "outputId": "c66830fe-4566-4730-8f20-cbcd66f9020f"
      },
      "execution_count": 32,
      "outputs": [
        {
          "output_type": "stream",
          "name": "stdout",
          "text": [
            "Enter radius in meter: 2\n",
            "Enter length in meter: 2\n",
            "cost of 25.12 liter milk is 1004.80\n"
          ]
        }
      ]
    },
    {
      "cell_type": "markdown",
      "source": [
        "# Q13. Write  a program that will tell whether the given number is divisible by 3 & 6.\n"
      ],
      "metadata": {
        "id": "SwBAwf25yj0y"
      }
    },
    {
      "cell_type": "code",
      "source": [
        "num = int(input('Enter a number: '))\n",
        "if(num%3==0 and num%6==0):\n",
        "    print(f'{num} is divisible by 3 as well as 6')\n",
        "elif (num%3 == 0):\n",
        "    print(f\"{num} is divisible by 3 only\")\n",
        "elif (num%6 == 0):\n",
        "    print(f\"{num} is divisible by 6 only\")\n",
        "else: \n",
        "    print(f'{num} is not divisible by 3 as well as 6')"
      ],
      "metadata": {
        "colab": {
          "base_uri": "https://localhost:8080/"
        },
        "id": "Md_EmgHNx24E",
        "outputId": "8350c36a-1b17-4f0e-aa31-8e0a21d3073b"
      },
      "execution_count": 9,
      "outputs": [
        {
          "output_type": "stream",
          "name": "stdout",
          "text": [
            "Enter a number: 12\n",
            "12 is divisible by 3 as well as 6\n"
          ]
        }
      ]
    },
    {
      "cell_type": "markdown",
      "source": [
        "# Q14. Write a program that will determine weather when the value of temperature and humidity is provided by the user.\n",
        "TEMPERATURE(C)      HUMIDITY(%)      WEATHER\n",
        "\n",
        "        >= 30           >=90                Hot and Humid\n",
        "        >= 30           < 90                Hot\n",
        "        <30             >= 90               Cool and Humid\n",
        "        <30             <90                 Cool\n"
      ],
      "metadata": {
        "id": "efiG-dwZzkOQ"
      }
    },
    {
      "cell_type": "code",
      "source": [
        "temp = int(input('Enter a temperature: '))\n",
        "humidity = int(input('Enter a humidity: '))\n",
        "if (temp >= 30 and humidity >= 90):\n",
        "    print('Weather is Hot and Humid')\n",
        "elif (temp >= 30 and humidity < 90):\n",
        "    print('Weather is Hot')\n",
        "elif (temp < 30 and humidity >= 90):\n",
        "    print('Weather is Cool and Humid')\n",
        "else:\n",
        "    print('Weather is Cool')"
      ],
      "metadata": {
        "colab": {
          "base_uri": "https://localhost:8080/"
        },
        "id": "XYZwrE2rzSJK",
        "outputId": "9dd3307e-c1c9-46c7-b13d-2e7531eb3a14"
      },
      "execution_count": 10,
      "outputs": [
        {
          "output_type": "stream",
          "name": "stdout",
          "text": [
            "Enter a temperature: 35\n",
            "Enter a humidity: 75\n",
            "Weather is Hot\n"
          ]
        }
      ]
    },
    {
      "cell_type": "markdown",
      "source": [
        "# Q15. Write a program that will take three digits from the user and add the square of each digit.\n"
      ],
      "metadata": {
        "id": "_pRILxmD056g"
      }
    },
    {
      "cell_type": "code",
      "source": [
        "num1 = int(input('Enter first number: '))\n",
        "num2 = int(input('Enter second number: '))\n",
        "num3 = int(input('Enter third number: '))\n",
        "\n",
        "print((num1**2)+(num2**2)+(num3**2))"
      ],
      "metadata": {
        "colab": {
          "base_uri": "https://localhost:8080/"
        },
        "id": "_wZVJJFV0t7o",
        "outputId": "5baf13c2-9ad0-473b-a9c9-2c7cf7821dba"
      },
      "execution_count": 11,
      "outputs": [
        {
          "output_type": "stream",
          "name": "stdout",
          "text": [
            "Enter first number: 2\n",
            "Enter second number: 3\n",
            "Enter third number: 2\n",
            "17\n"
          ]
        }
      ]
    },
    {
      "cell_type": "markdown",
      "source": [
        "# Q16. Write a program that will check whether the number is armstrong number or not."
      ],
      "metadata": {
        "id": "23SuQa6X1lcX"
      }
    },
    {
      "cell_type": "code",
      "source": [
        "def armstrong(num):\n",
        "    if (num<10):\n",
        "        return num**3\n",
        "    return (num%10)**3 + armstrong(num//10)\n",
        "\n",
        "num = int(input('Enter a number: '))\n",
        "\n",
        "if (num == armstrong(num)):\n",
        "    print(f\"{num} is a armstrong number\")\n",
        "else:\n",
        "    print(f'{num} is not a armstrong number')"
      ],
      "metadata": {
        "colab": {
          "base_uri": "https://localhost:8080/"
        },
        "id": "2w_2XOZn1btQ",
        "outputId": "2decbac3-7966-4eee-b719-c00c6cc40313"
      },
      "execution_count": 33,
      "outputs": [
        {
          "output_type": "stream",
          "name": "stdout",
          "text": [
            "Enter a number: 153\n",
            "153 is a armstrong number\n"
          ]
        }
      ]
    },
    {
      "cell_type": "markdown",
      "source": [
        "# Q17. Write a program that will take user input of (4 digits number) and check whether the number is narcissist number or not.\n"
      ],
      "metadata": {
        "id": "8mmdhUwD2nwX"
      }
    },
    {
      "cell_type": "code",
      "source": [
        "num = int(input('Enter a number: '))\n",
        "\n",
        "def narcissist(num):\n",
        "    if (num<10):\n",
        "        return num**4\n",
        "    return (num%10)**4 + narcissist(num//10)\n",
        "\n",
        "if (num == narcissist(num)):\n",
        "    print(f'{num} is a narcissit number')\n",
        "else:\n",
        "    print(f'{num} is not a narcissit number')"
      ],
      "metadata": {
        "colab": {
          "base_uri": "https://localhost:8080/"
        },
        "id": "48gPFKZX25JF",
        "outputId": "d69a4735-694f-4d71-eac9-7aaa3bb1ab60"
      },
      "execution_count": 27,
      "outputs": [
        {
          "output_type": "stream",
          "name": "stdout",
          "text": [
            "Enter a number: 1634\n",
            "1634 is a narcissit number\n"
          ]
        }
      ]
    },
    {
      "cell_type": "markdown",
      "source": [
        "# Q18. Write a program that will give you the in hand salary after deduction of HRA(10%),DA(5%),PF(3%), and tax(if salary is between 5-10 lakh–10%),(11-20lakh–20%),(20< _   – 30%)(0-1lakh print k)."
      ],
      "metadata": {
        "id": "0JXE915R8CVC"
      }
    },
    {
      "cell_type": "code",
      "source": [
        "def inHandSalary(salary):\n",
        "    hra = salary/10\n",
        "    da = salary/20\n",
        "    pf = (salary*3)/100\n",
        "    if salary>=500000 and salary<=1000000:\n",
        "        return salary - 2*hra - da - pf\n",
        "    elif salary>=1100000 and salary<=2000000:\n",
        "        return salary - hra - da - pf - salary/5\n",
        "    elif salary>=2000000:\n",
        "        return salary - hra - da - pf - (salary*3)/10\n",
        "    else:\n",
        "        return salary - hra - da - pf\n",
        "\n",
        "salary = int(input('Enter a salary: '))\n",
        "\n",
        "print(f'You will get {inHandSalary(salary)} salary though your salary is {salary}')"
      ],
      "metadata": {
        "colab": {
          "base_uri": "https://localhost:8080/"
        },
        "id": "d2Ie14Jz3pRm",
        "outputId": "015443f3-12cc-45d8-9b2a-a37c75c31898"
      },
      "execution_count": 28,
      "outputs": [
        {
          "output_type": "stream",
          "name": "stdout",
          "text": [
            "Enter a salary: 500000\n",
            "You will get 360000.0 salary though your salary is 500000\n"
          ]
        }
      ]
    },
    {
      "cell_type": "markdown",
      "source": [
        "# Q19. Write a menu driven program - 1.cm to ft  2.kl to miles  3.usd to inr  4.exit"
      ],
      "metadata": {
        "id": "hMO2ZucJ_s3N"
      }
    },
    {
      "cell_type": "code",
      "source": [
        "def menu():\n",
        "    print('Press 1 to convert centimeter to foot')\n",
        "    print('Press 2 to convert kilometer to miles')\n",
        "    print('Press 3 to convert US Dollar to Indian Rupee')\n",
        "    print('Press 4 to exit')\n",
        "    index = int(input('Enter number: '))\n",
        "\n",
        "    if index == 1:\n",
        "        centi = float(input('Enter a length in centimeter: '))\n",
        "        foot = centi/30.48\n",
        "        print(f'{centi} centimeter is {foot} foot in length')\n",
        "\n",
        "    elif index == 2:\n",
        "        kilo = float(input('Enter a length in Kilometer: '))\n",
        "        miles = kilo/1.609\n",
        "        print(f'{kilo} Kilometer is {miles} miles in length')\n",
        "\n",
        "    elif index == 3:\n",
        "        usd = int(input('Enter amount in US Dollar'))\n",
        "        rupee = usd*77.63 # Today US Dollar rate is 77.63\n",
        "        print(f'${usd} Dollar is ₹{rupee} Ruppes')\n",
        "\n",
        "    else:\n",
        "        print('GoodBye! Have a nice day')\n",
        "\n",
        "menu()"
      ],
      "metadata": {
        "colab": {
          "base_uri": "https://localhost:8080/"
        },
        "id": "ygKZWaOW52eL",
        "outputId": "2401e6e3-6aee-450c-a86e-dfef9fde67b9"
      },
      "execution_count": 30,
      "outputs": [
        {
          "output_type": "stream",
          "name": "stdout",
          "text": [
            "Press 1 to conver centimeter to foot\n",
            "Press 2 to conver kilometer to miles\n",
            "Press 3 to conver US Dollar to Indian Rupee\n",
            "Press 4 to exit\n",
            "Enter number: 4\n",
            "GoodBye! Have a nice day\n"
          ]
        }
      ]
    },
    {
      "cell_type": "markdown",
      "source": [
        "# Q20. Write a program that will tell the number of dogs and chicken are there when the user will provide the value of total heads and legs."
      ],
      "metadata": {
        "id": "FhkvqvyFCbIy"
      }
    },
    {
      "cell_type": "code",
      "source": [
        "heads = int(input('Enter number of heads: '))\n",
        "legs = int(input('Enter number of legs: '))\n",
        "\n",
        "# dog heads + chicken heads = heads\n",
        "# 4*dog heads + 2*chicken heads = legs\n",
        "# if you solve above equation in 2 varible you will get the following solution\n",
        "\n",
        "dogHeads = (legs - 2*heads)/2 # no. of dog head corresponds to number of dogs\n",
        "chickenHeads = heads - dogHeads # no. of chicken heads corresponds to number of chickens\n",
        "\n",
        "print(f'Number of Dogs and Chickens are {dogHeads} and {chickenHeads}')"
      ],
      "metadata": {
        "colab": {
          "base_uri": "https://localhost:8080/"
        },
        "id": "MWSnEeLhCJfD",
        "outputId": "c8049b0c-3410-474e-86c2-0d4c6c25c31b"
      },
      "execution_count": 31,
      "outputs": [
        {
          "output_type": "stream",
          "name": "stdout",
          "text": [
            "Enter number of heads: 12\n",
            "Enter number of legs: 36\n",
            "Number of Dogs and Chickens are 6.0 and 6.0\n"
          ]
        }
      ]
    }
  ]
}