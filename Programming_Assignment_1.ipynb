{
  "nbformat": 4,
  "nbformat_minor": 0,
  "metadata": {
    "colab": {
      "name": "Programming_Assignment_1.ipynb",
      "provenance": [],
      "authorship_tag": "ABX9TyOH6rHjW9LE4vY8vblJUIJx"
    },
    "kernelspec": {
      "name": "python3",
      "display_name": "Python 3"
    },
    "language_info": {
      "name": "python"
    }
  },
  "cells": [
    {
      "cell_type": "markdown",
      "source": [
        "1. Write a Python program to print &quot;Hello Python&quot;?\n"
      ],
      "metadata": {
        "id": "Jv9UEeoaXqEp"
      }
    },
    {
      "cell_type": "code",
      "source": [
        "print('Hello Python')"
      ],
      "metadata": {
        "colab": {
          "base_uri": "https://localhost:8080/"
        },
        "id": "v0cTOqURXuBs",
        "outputId": "37f71a9f-00a7-4a9a-ab02-b90a5aa16d91"
      },
      "execution_count": 1,
      "outputs": [
        {
          "output_type": "stream",
          "name": "stdout",
          "text": [
            "Hello Python\n"
          ]
        }
      ]
    },
    {
      "cell_type": "markdown",
      "source": [
        "\n",
        "2. Write a Python program to do arithmetical operations addition and division.?\n"
      ],
      "metadata": {
        "id": "9Eld9LRWYcDi"
      }
    },
    {
      "cell_type": "code",
      "source": [
        "a = 6\n",
        "b = 3\n",
        "print(a+b)\n",
        "print(a/b)"
      ],
      "metadata": {
        "colab": {
          "base_uri": "https://localhost:8080/"
        },
        "id": "vxBIRepbXw3N",
        "outputId": "94b763ef-ff86-409b-b35e-3740a57f82d6"
      },
      "execution_count": 2,
      "outputs": [
        {
          "output_type": "stream",
          "name": "stdout",
          "text": [
            "9\n",
            "2.0\n"
          ]
        }
      ]
    },
    {
      "cell_type": "markdown",
      "source": [
        "3.\n",
        "Write a Python program to find the area of a triangle?"
      ],
      "metadata": {
        "id": "j5u9tdwyYm1y"
      }
    },
    {
      "cell_type": "code",
      "source": [
        "base = 14\n",
        "height = 12\n",
        "area = 0.5 * base * height # area of triangle is 1/2 x base x height\n",
        "print(area)"
      ],
      "metadata": {
        "colab": {
          "base_uri": "https://localhost:8080/"
        },
        "id": "LYk0f4DGX6Jr",
        "outputId": "0dc05bbe-be18-4d03-e39a-421a53461427"
      },
      "execution_count": 3,
      "outputs": [
        {
          "output_type": "stream",
          "name": "stdout",
          "text": [
            "84.0\n"
          ]
        }
      ]
    },
    {
      "cell_type": "markdown",
      "source": [
        "4. \n",
        "Write a Python program to swap two variables?"
      ],
      "metadata": {
        "id": "KtG4VQnRYjEb"
      }
    },
    {
      "cell_type": "code",
      "source": [
        "a = 8\n",
        "b = 7\n",
        "temp = a # swapping two numbers\n",
        "a = b\n",
        "b = temp\n",
        "print(a,b)"
      ],
      "metadata": {
        "colab": {
          "base_uri": "https://localhost:8080/"
        },
        "id": "64C0bK9KYCr0",
        "outputId": "e615ec5a-f86a-45bd-982c-876e80aafce9"
      },
      "execution_count": 4,
      "outputs": [
        {
          "output_type": "stream",
          "name": "stdout",
          "text": [
            "7 8\n"
          ]
        }
      ]
    },
    {
      "cell_type": "markdown",
      "source": [
        "5. \n",
        "Write a Python program to generate a random number?"
      ],
      "metadata": {
        "id": "BllNMBskYpPC"
      }
    },
    {
      "cell_type": "code",
      "source": [
        "import random # random module help to generate random number \n",
        "print(random.randint(0,100))"
      ],
      "metadata": {
        "colab": {
          "base_uri": "https://localhost:8080/"
        },
        "id": "2pJoCFezYKUj",
        "outputId": "75f8f5db-b216-4471-e7c4-27b737b26985"
      },
      "execution_count": 5,
      "outputs": [
        {
          "output_type": "stream",
          "name": "stdout",
          "text": [
            "34\n"
          ]
        }
      ]
    }
  ]
}