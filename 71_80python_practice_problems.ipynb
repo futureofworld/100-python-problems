{
  "nbformat": 4,
  "nbformat_minor": 0,
  "metadata": {
    "colab": {
      "name": "71-80python_practice_problems.ipynb",
      "provenance": [],
      "authorship_tag": "ABX9TyM5JNPLVKF2tmuGhS9BVK1I"
    },
    "kernelspec": {
      "name": "python3",
      "display_name": "Python 3"
    },
    "language_info": {
      "name": "python"
    }
  },
  "cells": [
    {
      "cell_type": "markdown",
      "source": [
        "# Q71. Write a program that can convert an integer to string."
      ],
      "metadata": {
        "id": "hH_Q5JxCQZ37"
      }
    },
    {
      "cell_type": "code",
      "source": [
        "def intToStr(num):\n",
        "    return str(num) # convrting number to string\n",
        "\n",
        "string = intToStr(20) # initializing the function\n",
        "print(type(string)) # checking the type of the number which is string"
      ],
      "metadata": {
        "colab": {
          "base_uri": "https://localhost:8080/"
        },
        "id": "wUQnigx3Qc0Z",
        "outputId": "0e492cc2-d2f8-4641-9b59-2e70e92c0c09"
      },
      "execution_count": 1,
      "outputs": [
        {
          "output_type": "stream",
          "name": "stdout",
          "text": [
            "<class 'str'>\n"
          ]
        }
      ]
    },
    {
      "cell_type": "markdown",
      "source": [
        "# Q72. Write a program to print the shape of a matrix."
      ],
      "metadata": {
        "id": "KqbIFOqxQuuJ"
      }
    },
    {
      "cell_type": "code",
      "source": [
        "matrix = [[1,2,3],\n",
        "          [4,5,6],\n",
        "          [7,8,9]]\n",
        "\n",
        "row = len(matrix) # number of row of matrix\n",
        "column = len(matrix[0]) # number of column of matrix\n",
        "\n",
        "print(f'shape of {matrix} is {row}x{column}')"
      ],
      "metadata": {
        "colab": {
          "base_uri": "https://localhost:8080/"
        },
        "id": "QDSDdq92QxVw",
        "outputId": "5ab75cee-3926-4c0b-abf3-aff064d5e95b"
      },
      "execution_count": 2,
      "outputs": [
        {
          "output_type": "stream",
          "name": "stdout",
          "text": [
            "shape of [[1, 2, 3], [4, 5, 6], [7, 8, 9]] is 3x3\n"
          ]
        }
      ]
    },
    {
      "cell_type": "markdown",
      "source": [
        "# Q73. Write a program that can check if you can perform matrix multiplication on 2 matrices"
      ],
      "metadata": {
        "id": "M2sCFyqWa069"
      }
    },
    {
      "cell_type": "code",
      "source": [
        "import numpy as np\n",
        "mat1 = np.array([[1,2,3],\n",
        "                [4,5,6]])\n",
        "\n",
        "mat2 = np.array([[1,2,3],\n",
        "                [4,5,6],\n",
        "                [7,8,9]])\n",
        "\n",
        "mat1_column = len(mat1[0]) # getting number of columns\n",
        "mat2_row = len(mat2) # getting number of rows\n",
        "if mat1_column == mat2_row: # checking if column of first matrix is equal to the row of second matrix\n",
        "    print('matrix multiplication is possible')\n",
        "else:\n",
        "    print('matrix multiplication is not possible')"
      ],
      "metadata": {
        "colab": {
          "base_uri": "https://localhost:8080/"
        },
        "id": "qgkf88i5a3Vk",
        "outputId": "4f67ed80-4794-4e56-f745-23f5bc9d5b21"
      },
      "execution_count": 3,
      "outputs": [
        {
          "output_type": "stream",
          "name": "stdout",
          "text": [
            "matrix multiplication is possible\n"
          ]
        }
      ]
    },
    {
      "cell_type": "markdown",
      "source": [
        "# Q74. Write a program that can check if you can perform matrix multiplication on 2 matrices"
      ],
      "metadata": {
        "id": "LdVkC0YHRVuw"
      }
    },
    {
      "cell_type": "code",
      "source": [
        "import numpy as np # importing numpy library\n",
        "\n",
        "mat1 = np.array([[1,2,3],\n",
        "                [4,5,6],\n",
        "                [7,8,9]])\n",
        "    \n",
        "mat2 = np.array([[9,8,7],\n",
        "                [6,5,4],\n",
        "                [3,2,1]])\n",
        "\n",
        "mat = np.zeros(shape=(3,3))\n",
        "for i in range(3): # for row\n",
        "    for j in range(3): # for column\n",
        "        for k in range(3): # for adding\n",
        "            mat[i][j] += mat1[i][k]*mat2[k][j] # adding the matrix in it row and columns position\n",
        "\n",
        "print(mat)"
      ],
      "metadata": {
        "colab": {
          "base_uri": "https://localhost:8080/"
        },
        "id": "MOEsEZu_RYJ3",
        "outputId": "a4078071-0c00-4228-c3df-7e38aade5632"
      },
      "execution_count": 4,
      "outputs": [
        {
          "output_type": "stream",
          "name": "stdout",
          "text": [
            "[[ 30.  24.  18.]\n",
            " [ 84.  69.  54.]\n",
            " [138. 114.  90.]]\n"
          ]
        }
      ]
    },
    {
      "cell_type": "markdown",
      "source": [
        "# Q75. Write a program that can sort a given unsorted list. Dont use any built in function for sorting."
      ],
      "metadata": {
        "id": "MUVS1M49b9Xs"
      }
    },
    {
      "cell_type": "code",
      "source": [
        "lst = [6,8,4,9,8,2,7]\n",
        "sorted_lst = []\n",
        "for i in range(len(lst)-1): # iterating in a list starting from first to second last position\n",
        "    for j in range(i+1, len(lst)): # iteratin in a list starting form second to last position\n",
        "        if lst[j] < lst[i]: # checking if the first position is smaller than the rest of the list\n",
        "            temp = lst[j] # if any number is smaller then it will come to the first position by swaping the postion\n",
        "            lst[j] = lst[i] \n",
        "            lst[i] = temp\n",
        "\n",
        "print(lst)"
      ],
      "metadata": {
        "colab": {
          "base_uri": "https://localhost:8080/"
        },
        "id": "6W3AO4F_b_ZE",
        "outputId": "238a2dce-5965-4ce1-a1bd-ddecdebc583d"
      },
      "execution_count": 5,
      "outputs": [
        {
          "output_type": "stream",
          "name": "stdout",
          "text": [
            "[2, 4, 6, 7, 8, 8, 9]\n"
          ]
        }
      ]
    },
    {
      "cell_type": "markdown",
      "source": [
        "# Q76. Write a program that can find the most used word in a bollywood song"
      ],
      "metadata": {
        "id": "ZgIyfbfpp4TC"
      }
    },
    {
      "cell_type": "code",
      "source": [
        "string = 'bollywood song'\n",
        "dic = dict()\n",
        "for i in string: # iterating through string\n",
        "    if i in dic: # if the character is present in the dict then \n",
        "        dic[i] += 1 # increment the charcter by 1\n",
        "    else:\n",
        "        dic[i] = 1 # otherwise add the character and set it's value by 1\n",
        "\n",
        "word = max(dic, key=dic.get) # getting the character with maximum number in dict\n",
        "print(f'most used word in {string} is {word}')"
      ],
      "metadata": {
        "colab": {
          "base_uri": "https://localhost:8080/"
        },
        "id": "HOnzDT2vp6Q4",
        "outputId": "f07771cc-e22d-4816-fe08-c9acf86bf2e0"
      },
      "execution_count": 6,
      "outputs": [
        {
          "output_type": "stream",
          "name": "stdout",
          "text": [
            "most used word in bollywood song is o\n"
          ]
        }
      ]
    },
    {
      "cell_type": "markdown",
      "source": [
        "# Q77. Assume a list with numbers from 1 to 10 and then convert it into a dictionary where the key would be the numbers of the list and the values would be the square of those numbers."
      ],
      "metadata": {
        "id": "uWVs02lRq15P"
      }
    },
    {
      "cell_type": "code",
      "source": [
        "lst = [1,2,3,4,5,6,7,8,9,10]\n",
        "dic = dict()\n",
        "for i in lst:\n",
        "    dic[i] = i**2 \n",
        "\n",
        "print(dic)"
      ],
      "metadata": {
        "colab": {
          "base_uri": "https://localhost:8080/"
        },
        "id": "gPCAMhK_qHhQ",
        "outputId": "cc67e5ad-2d05-497f-a779-363fd9b64c28"
      },
      "execution_count": 7,
      "outputs": [
        {
          "output_type": "stream",
          "name": "stdout",
          "text": [
            "{1: 1, 2: 4, 3: 9, 4: 16, 5: 25, 6: 36, 7: 49, 8: 64, 9: 81, 10: 100}\n"
          ]
        }
      ]
    },
    {
      "cell_type": "markdown",
      "source": [
        "# Q78. Write a program to merge two given dictionary"
      ],
      "metadata": {
        "id": "SNH8N35LrKQu"
      }
    },
    {
      "cell_type": "code",
      "source": [
        "dic1 = {'apples': 10, 'banana':12, 'oranges':15}\n",
        "dic2 = {'mango':20, 'pineapple':5}\n",
        "dic1.update(dic2) # adding dictionary 2 in dictionary 1\n",
        "print(dic1)"
      ],
      "metadata": {
        "colab": {
          "base_uri": "https://localhost:8080/"
        },
        "id": "1vg4_IEPrMb3",
        "outputId": "a14bbf3a-e046-4e7f-cd42-22b87a00678e"
      },
      "execution_count": 8,
      "outputs": [
        {
          "output_type": "stream",
          "name": "stdout",
          "text": [
            "{'apples': 10, 'banana': 12, 'oranges': 15, 'mango': 20, 'pineapple': 5}\n"
          ]
        }
      ]
    },
    {
      "cell_type": "markdown",
      "source": [
        "# Q79. Write a program to swap the key value pair for max and min values\n",
        "# Eg if the dict is like this {‘a’:1,’b’:2,’c’:3}\n",
        "# Output should be {a:3,b:2,c:1}"
      ],
      "metadata": {
        "id": "TqBXLu5iru2m"
      }
    },
    {
      "cell_type": "code",
      "source": [
        "dic =  {'a':1,'b':2,'c':3}\n",
        "max_key = max(dic, key=dic.get) # getting the key whose value is maximum\n",
        "min_key = min(dic, key=dic.get) # getting the key whose value is minimum\n",
        "dic[min_key], dic[max_key] =  dic[max_key], dic[min_key] # swap the key with one another\n",
        "print(dic)"
      ],
      "metadata": {
        "colab": {
          "base_uri": "https://localhost:8080/"
        },
        "id": "h7KLb495ryM1",
        "outputId": "f3ef9a1c-0c9a-4f48-a44c-10906912816b"
      },
      "execution_count": 9,
      "outputs": [
        {
          "output_type": "stream",
          "name": "stdout",
          "text": [
            "{'a': 3, 'b': 2, 'c': 1}\n"
          ]
        }
      ]
    },
    {
      "cell_type": "markdown",
      "source": [
        "# Q 80. Write a program to find histogram of a given set of numbers. Take bin size from user. Print the result in the form of a dictionary."
      ],
      "metadata": {
        "id": "2VWj5xpSsgW0"
      }
    },
    {
      "cell_type": "code",
      "source": [
        "lst = [2,4,6,7,2,7,2,8,5,2,4,5,4,7,5,7,6,3,2,4,4,5,2,1,4,5,9,8,7,7,4,8,8,7]\n",
        "bin = int(input('Enter a bin size: '))\n",
        "start = min(lst)\n",
        "last = max(lst)\n",
        "bin_interval = (last-start)/bin  # size of the interval\n",
        "\n",
        "interval_lst = [float(start)] # stores the list of interval values\n",
        "hist = {}\n",
        "j = start\n",
        "for i in range(bin): \n",
        "    hist[f'{j:.1f}-{j+bin_interval:.1f}'] = 0 # creating the interval size\n",
        "    j += bin_interval \n",
        "    interval_lst.append(float(round(j, 1))) # adding the interval in list\n",
        "\n",
        "for i in lst:\n",
        "    for j in range(len(interval_lst)):\n",
        "        if j == 0:\n",
        "            if i == interval_lst[j]: # checking if the value lies between the interval\n",
        "                hist[f'{interval_lst[j]}-{interval_lst[j+1]}'] += 1 # incrementing the value if it lies in the given range\n",
        "                break\n",
        "        \n",
        "        elif i <= interval_lst[j]:\n",
        "            hist[f'{interval_lst[j-1]}-{interval_lst[j]}'] += 1\n",
        "            break;\n",
        "\n",
        "\n",
        "print(hist)\n"
      ],
      "metadata": {
        "colab": {
          "base_uri": "https://localhost:8080/"
        },
        "id": "wQu1FM3Asi9n",
        "outputId": "76c30e2d-3e39-40b1-9c42-242ccca59602"
      },
      "execution_count": 10,
      "outputs": [
        {
          "output_type": "stream",
          "name": "stdout",
          "text": [
            "Enter a bin size: 5\n",
            "{'1.0-2.6': 7, '2.6-4.2': 8, '4.2-5.8': 5, '5.8-7.4': 9, '7.4-9.0': 5}\n"
          ]
        }
      ]
    }
  ]
}