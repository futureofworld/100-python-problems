{
  "nbformat": 4,
  "nbformat_minor": 0,
  "metadata": {
    "colab": {
      "name": "71-80python_practice_problems.ipynb",
      "provenance": [],
      "authorship_tag": "ABX9TyPPHbfWXodLmeih0ACUg6YD"
    },
    "kernelspec": {
      "name": "python3",
      "display_name": "Python 3"
    },
    "language_info": {
      "name": "python"
    }
  },
  "cells": [
    {
      "cell_type": "markdown",
      "source": [
        "# Q71. Write a program that can convert an integer to string."
      ],
      "metadata": {
        "id": "hH_Q5JxCQZ37"
      }
    },
    {
      "cell_type": "code",
      "source": [
        "def intToStr(num):\n",
        "    return str(num)\n",
        "\n",
        "string = intToStr(20)\n",
        "print(type(string))"
      ],
      "metadata": {
        "colab": {
          "base_uri": "https://localhost:8080/"
        },
        "id": "wUQnigx3Qc0Z",
        "outputId": "eb0ffbde-0cb1-4f6b-e093-11ef4cc3173d"
      },
      "execution_count": 1,
      "outputs": [
        {
          "output_type": "stream",
          "name": "stdout",
          "text": [
            "<class 'str'>\n"
          ]
        }
      ]
    },
    {
      "cell_type": "markdown",
      "source": [
        "# Q72. Write a program to print the shape of a matrix."
      ],
      "metadata": {
        "id": "KqbIFOqxQuuJ"
      }
    },
    {
      "cell_type": "code",
      "source": [
        "matrix = [[1,2,3],\n",
        "          [4,5,6],\n",
        "          [7,8,9]]\n",
        "\n",
        "row = len(matrix)\n",
        "column = len(matrix[0])\n",
        "\n",
        "print(f'shape of {matrix} is {row}x{column}')"
      ],
      "metadata": {
        "colab": {
          "base_uri": "https://localhost:8080/"
        },
        "id": "QDSDdq92QxVw",
        "outputId": "fee9f6ce-19fa-47c2-a7bb-cbd7ecc73f51"
      },
      "execution_count": 2,
      "outputs": [
        {
          "output_type": "stream",
          "name": "stdout",
          "text": [
            "shape of [[1, 2, 3], [4, 5, 6], [7, 8, 9]] is 3x3\n"
          ]
        }
      ]
    },
    {
      "cell_type": "markdown",
      "source": [
        "# Q73. Write a program that can check if you can perform matrix multiplication on 2 matrices"
      ],
      "metadata": {
        "id": "M2sCFyqWa069"
      }
    },
    {
      "cell_type": "code",
      "source": [
        "import numpy as np\n",
        "mat1 = np.array([[1,2,3],\n",
        "                [4,5,6]])\n",
        "\n",
        "mat2 = np.array([[1,2,3],\n",
        "                [4,5,6],\n",
        "                [7,8,9]])\n",
        "\n",
        "mat1_column = len(mat1[0])\n",
        "mat2_row = len(mat2)\n",
        "if mat1_column == mat2_row:\n",
        "    print('matrix multiplication is possible')\n",
        "else:\n",
        "    print('matrix multiplication is not possible')"
      ],
      "metadata": {
        "colab": {
          "base_uri": "https://localhost:8080/"
        },
        "id": "qgkf88i5a3Vk",
        "outputId": "32647c9b-b354-4087-f7b5-8966acd89618"
      },
      "execution_count": 3,
      "outputs": [
        {
          "output_type": "stream",
          "name": "stdout",
          "text": [
            "matrix multiplication is possible\n"
          ]
        }
      ]
    },
    {
      "cell_type": "markdown",
      "source": [
        "# Q74. Write a program that can check if you can perform matrix multiplication on 2 matrices"
      ],
      "metadata": {
        "id": "LdVkC0YHRVuw"
      }
    },
    {
      "cell_type": "code",
      "source": [
        "import numpy as np\n",
        "\n",
        "mat1 = np.array([[1,2,3],\n",
        "                [4,5,6],\n",
        "                [7,8,9]])\n",
        "    \n",
        "mat2 = np.array([[9,8,7],\n",
        "                [6,5,4],\n",
        "                [3,2,1]])\n",
        "\n",
        "mat = np.zeros(shape=(3,3))\n",
        "for i in range(3):\n",
        "    for j in range(3):\n",
        "        for k in range(3):\n",
        "            mat[i][j] += mat1[i][k]*mat2[k][j]\n",
        "\n",
        "print(mat)"
      ],
      "metadata": {
        "colab": {
          "base_uri": "https://localhost:8080/"
        },
        "id": "MOEsEZu_RYJ3",
        "outputId": "0e745ffd-83cf-4efb-852f-09fbfd05d2b3"
      },
      "execution_count": 4,
      "outputs": [
        {
          "output_type": "stream",
          "name": "stdout",
          "text": [
            "[[ 30.  24.  18.]\n",
            " [ 84.  69.  54.]\n",
            " [138. 114.  90.]]\n"
          ]
        }
      ]
    },
    {
      "cell_type": "markdown",
      "source": [
        "# Q75. Write a program that can sort a given unsorted list. Dont use any built in function for sorting."
      ],
      "metadata": {
        "id": "MUVS1M49b9Xs"
      }
    },
    {
      "cell_type": "code",
      "source": [
        "lst = [6,8,4,9,8,2,7]\n",
        "sorted_lst = []\n",
        "for i in range(len(lst)-1):\n",
        "    for j in range(i+1, len(lst)):\n",
        "        if lst[j] < lst[i]:\n",
        "            temp = lst[j]\n",
        "            lst[j] = lst[i]\n",
        "            lst[i] = temp\n",
        "\n",
        "print(lst)"
      ],
      "metadata": {
        "colab": {
          "base_uri": "https://localhost:8080/"
        },
        "id": "6W3AO4F_b_ZE",
        "outputId": "71572fef-801f-4b71-dd58-5fdabc5e3504"
      },
      "execution_count": 5,
      "outputs": [
        {
          "output_type": "stream",
          "name": "stdout",
          "text": [
            "[2, 4, 6, 7, 8, 8, 9]\n"
          ]
        }
      ]
    }
  ]
}