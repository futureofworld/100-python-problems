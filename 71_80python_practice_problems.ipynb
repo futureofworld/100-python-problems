{
  "nbformat": 4,
  "nbformat_minor": 0,
  "metadata": {
    "colab": {
      "name": "71-80python_practice_problems.ipynb",
      "provenance": [],
      "authorship_tag": "ABX9TyPLtxj+XtNbugNNjgjxyYVA"
    },
    "kernelspec": {
      "name": "python3",
      "display_name": "Python 3"
    },
    "language_info": {
      "name": "python"
    }
  },
  "cells": [
    {
      "cell_type": "markdown",
      "source": [
        "# Q71. Write a program that can convert an integer to string."
      ],
      "metadata": {
        "id": "hH_Q5JxCQZ37"
      }
    },
    {
      "cell_type": "code",
      "source": [
        "def intToStr(num):\n",
        "    return str(num)\n",
        "\n",
        "string = intToStr(20)\n",
        "print(type(string))"
      ],
      "metadata": {
        "colab": {
          "base_uri": "https://localhost:8080/"
        },
        "id": "wUQnigx3Qc0Z",
        "outputId": "36369023-6076-4372-81b9-92f56ee35624"
      },
      "execution_count": 1,
      "outputs": [
        {
          "output_type": "stream",
          "name": "stdout",
          "text": [
            "<class 'str'>\n"
          ]
        }
      ]
    },
    {
      "cell_type": "markdown",
      "source": [
        "# Q72. Write a program to print the shape of a matrix."
      ],
      "metadata": {
        "id": "KqbIFOqxQuuJ"
      }
    },
    {
      "cell_type": "code",
      "source": [
        "matrix = [[1,2,3],\n",
        "          [4,5,6],\n",
        "          [7,8,9]]\n",
        "\n",
        "row = len(matrix)\n",
        "column = len(matrix[0])\n",
        "\n",
        "print(f'shape of {matrix} is {row}x{column}')"
      ],
      "metadata": {
        "colab": {
          "base_uri": "https://localhost:8080/"
        },
        "id": "QDSDdq92QxVw",
        "outputId": "339b0754-5398-44ff-f383-d29158a638de"
      },
      "execution_count": 2,
      "outputs": [
        {
          "output_type": "stream",
          "name": "stdout",
          "text": [
            "shape of [[1, 2, 3], [4, 5, 6], [7, 8, 9]] is 3x3\n"
          ]
        }
      ]
    },
    {
      "cell_type": "markdown",
      "source": [
        "# Q73. Write a program that can check if you can perform matrix multiplication on 2 matrices"
      ],
      "metadata": {
        "id": "M2sCFyqWa069"
      }
    },
    {
      "cell_type": "code",
      "source": [
        "import numpy as np\n",
        "mat1 = np.array([[1,2,3],\n",
        "                [4,5,6]])\n",
        "\n",
        "mat2 = np.array([[1,2,3],\n",
        "                [4,5,6],\n",
        "                [7,8,9]])\n",
        "\n",
        "mat1_column = len(mat1[0])\n",
        "mat2_row = len(mat2)\n",
        "if mat1_column == mat2_row:\n",
        "    print('matrix multiplication is possible')\n",
        "else:\n",
        "    print('matrix multiplication is not possible')"
      ],
      "metadata": {
        "colab": {
          "base_uri": "https://localhost:8080/"
        },
        "id": "qgkf88i5a3Vk",
        "outputId": "74848dbb-78ff-442b-85ca-7ff03ec1d1a8"
      },
      "execution_count": 3,
      "outputs": [
        {
          "output_type": "stream",
          "name": "stdout",
          "text": [
            "matrix multiplication is possible\n"
          ]
        }
      ]
    },
    {
      "cell_type": "markdown",
      "source": [
        "# Q74. Write a program that can check if you can perform matrix multiplication on 2 matrices"
      ],
      "metadata": {
        "id": "LdVkC0YHRVuw"
      }
    },
    {
      "cell_type": "code",
      "source": [
        "import numpy as np\n",
        "\n",
        "mat1 = np.array([[1,2,3],\n",
        "                [4,5,6],\n",
        "                [7,8,9]])\n",
        "    \n",
        "mat2 = np.array([[9,8,7],\n",
        "                [6,5,4],\n",
        "                [3,2,1]])\n",
        "\n",
        "mat = np.zeros(shape=(3,3))\n",
        "for i in range(3):\n",
        "    for j in range(3):\n",
        "        for k in range(3):\n",
        "            mat[i][j] += mat1[i][k]*mat2[k][j]\n",
        "\n",
        "print(mat)"
      ],
      "metadata": {
        "colab": {
          "base_uri": "https://localhost:8080/"
        },
        "id": "MOEsEZu_RYJ3",
        "outputId": "2f0aca38-cd63-45f8-8d14-8d660a53acd5"
      },
      "execution_count": 4,
      "outputs": [
        {
          "output_type": "stream",
          "name": "stdout",
          "text": [
            "[[ 30.  24.  18.]\n",
            " [ 84.  69.  54.]\n",
            " [138. 114.  90.]]\n"
          ]
        }
      ]
    },
    {
      "cell_type": "markdown",
      "source": [
        "# Q75. Write a program that can sort a given unsorted list. Dont use any built in function for sorting."
      ],
      "metadata": {
        "id": "MUVS1M49b9Xs"
      }
    },
    {
      "cell_type": "code",
      "source": [
        "lst = [6,8,4,9,8,2,7]\n",
        "sorted_lst = []\n",
        "for i in range(len(lst)-1):\n",
        "    for j in range(i+1, len(lst)):\n",
        "        if lst[j] < lst[i]:\n",
        "            temp = lst[j]\n",
        "            lst[j] = lst[i]\n",
        "            lst[i] = temp\n",
        "\n",
        "print(lst)"
      ],
      "metadata": {
        "colab": {
          "base_uri": "https://localhost:8080/"
        },
        "id": "6W3AO4F_b_ZE",
        "outputId": "4426edda-384f-4c08-8e57-90a3b90016a6"
      },
      "execution_count": 5,
      "outputs": [
        {
          "output_type": "stream",
          "name": "stdout",
          "text": [
            "[2, 4, 6, 7, 8, 8, 9]\n"
          ]
        }
      ]
    },
    {
      "cell_type": "markdown",
      "source": [
        "# Q76. Write a program that can find the most used word in a bollywood song"
      ],
      "metadata": {
        "id": "ZgIyfbfpp4TC"
      }
    },
    {
      "cell_type": "code",
      "source": [
        "string = 'bollywood song'\n",
        "dic = dict()\n",
        "for i in string:\n",
        "    if i in dic:\n",
        "        dic[i] += 1\n",
        "    else:\n",
        "        dic[i] = 1\n",
        "\n",
        "word = max(dic, key=dic.get)\n",
        "print(f'most used word in {string} is {word}')"
      ],
      "metadata": {
        "colab": {
          "base_uri": "https://localhost:8080/"
        },
        "id": "HOnzDT2vp6Q4",
        "outputId": "f6fe52fd-1aa1-4bec-a231-52c90af1b81e"
      },
      "execution_count": 6,
      "outputs": [
        {
          "output_type": "stream",
          "name": "stdout",
          "text": [
            "most used word in bollywood song is o\n"
          ]
        }
      ]
    },
    {
      "cell_type": "markdown",
      "source": [
        "# Q77. Assume a list with numbers from 1 to 10 and then convert it into a dictionary where the key would be the numbers of the list and the values would be the square of those numbers."
      ],
      "metadata": {
        "id": "uWVs02lRq15P"
      }
    },
    {
      "cell_type": "code",
      "source": [
        "lst = [1,2,3,4,5,6,7,8,9,10]\n",
        "dic = dict()\n",
        "for i in lst:\n",
        "    dic[i] = i**2\n",
        "\n",
        "print(dic)"
      ],
      "metadata": {
        "colab": {
          "base_uri": "https://localhost:8080/"
        },
        "id": "gPCAMhK_qHhQ",
        "outputId": "174ddadf-003a-4595-dea5-a448e3d3f172"
      },
      "execution_count": 7,
      "outputs": [
        {
          "output_type": "stream",
          "name": "stdout",
          "text": [
            "{1: 1, 2: 4, 3: 9, 4: 16, 5: 25, 6: 36, 7: 49, 8: 64, 9: 81, 10: 100}\n"
          ]
        }
      ]
    },
    {
      "cell_type": "markdown",
      "source": [
        "# Q78. Write a program to merge two given dictionary"
      ],
      "metadata": {
        "id": "SNH8N35LrKQu"
      }
    },
    {
      "cell_type": "code",
      "source": [
        "dic1 = {'apples': 10, 'banana':12, 'oranges':15}\n",
        "dic2 = {'mango':20, 'pineapple':5}\n",
        "dic1.update(dic2)\n",
        "print(dic1)"
      ],
      "metadata": {
        "colab": {
          "base_uri": "https://localhost:8080/"
        },
        "id": "1vg4_IEPrMb3",
        "outputId": "0a0a654c-4a2d-4270-e093-372b12c5d4de"
      },
      "execution_count": 8,
      "outputs": [
        {
          "output_type": "stream",
          "name": "stdout",
          "text": [
            "{'apples': 10, 'banana': 12, 'oranges': 15, 'mango': 20, 'pineapple': 5}\n"
          ]
        }
      ]
    },
    {
      "cell_type": "markdown",
      "source": [
        "# Q79. Write a program to swap the key value pair for max and min values\n",
        "# Eg if the dict is like this {‘a’:1,’b’:2,’c’:3}\n",
        "# Output should be {a:3,b:2,c:1}"
      ],
      "metadata": {
        "id": "TqBXLu5iru2m"
      }
    },
    {
      "cell_type": "code",
      "source": [
        "dic =  {'a':1,'b':2,'c':3}\n",
        "max_key = max(dic, key=dic.get)\n",
        "min_key = min(dic, key=dic.get)\n",
        "dic[min_key], dic[max_key] =  dic[max_key], dic[min_key]\n",
        "print(dic)"
      ],
      "metadata": {
        "colab": {
          "base_uri": "https://localhost:8080/"
        },
        "id": "h7KLb495ryM1",
        "outputId": "ce5fca50-cb33-43b8-b0fb-aec4d5aeb343"
      },
      "execution_count": 9,
      "outputs": [
        {
          "output_type": "stream",
          "name": "stdout",
          "text": [
            "{'a': 3, 'b': 2, 'c': 1}\n"
          ]
        }
      ]
    },
    {
      "cell_type": "markdown",
      "source": [
        "# Q 80. Write a program to find histogram of a given set of numbers. Take bin size from user. Print the result in the form of a dictionary."
      ],
      "metadata": {
        "id": "2VWj5xpSsgW0"
      }
    },
    {
      "cell_type": "code",
      "source": [
        "lst = [2,4,6,7,2,7,2,8,5,2,4,5,4,7,5,7,6,3,2,4,4,5,2,1,4,5,9,8,7,7,4,8,8,7]\n",
        "bin = int(input('Enter a bin size: '))\n",
        "start = min(lst)\n",
        "last = max(lst)\n",
        "bin_interval = (last-start)/bin\n",
        "\n",
        "interval_lst = [float(start)]\n",
        "hist = {}\n",
        "j = start\n",
        "for i in range(bin):\n",
        "    hist[f'{j:.1f}-{j+bin_interval:.1f}'] = 0\n",
        "    j += bin_interval\n",
        "    interval_lst.append(float(round(j, 1)))\n",
        "\n",
        "for i in lst:\n",
        "    for j in range(len(interval_lst)):\n",
        "        if j == 0:\n",
        "            if i == interval_lst[j]:\n",
        "                hist[f'{interval_lst[j]}-{interval_lst[j+1]}'] += 1\n",
        "                break\n",
        "        \n",
        "        elif i <= interval_lst[j]:\n",
        "            hist[f'{interval_lst[j-1]}-{interval_lst[j]}'] += 1\n",
        "            break;\n",
        "\n",
        "\n",
        "print(hist)\n"
      ],
      "metadata": {
        "colab": {
          "base_uri": "https://localhost:8080/"
        },
        "id": "wQu1FM3Asi9n",
        "outputId": "6a239278-d4ba-4641-e75b-cd806d7ea1cb"
      },
      "execution_count": 11,
      "outputs": [
        {
          "output_type": "stream",
          "name": "stdout",
          "text": [
            "Enter a bin size: 5\n",
            "{'1.0-2.6': 7, '2.6-4.2': 8, '4.2-5.8': 5, '5.8-7.4': 9, '7.4-9.0': 5}\n"
          ]
        }
      ]
    }
  ]
}