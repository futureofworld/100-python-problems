{
  "nbformat": 4,
  "nbformat_minor": 0,
  "metadata": {
    "colab": {
      "name": "61-70python_practice_problems.ipynb",
      "provenance": [],
      "authorship_tag": "ABX9TyOL1ooy7kfGal7j2Nw7zx5b"
    },
    "kernelspec": {
      "name": "python3",
      "display_name": "Python 3"
    },
    "language_info": {
      "name": "python"
    }
  },
  "cells": [
    {
      "cell_type": "markdown",
      "source": [
        "# Q61. Write a program that can create a new list from a given list where each item in the new list is square of the item of the old list"
      ],
      "metadata": {
        "id": "y77samu1lwoH"
      }
    },
    {
      "cell_type": "code",
      "execution_count": 1,
      "metadata": {
        "colab": {
          "base_uri": "https://localhost:8080/"
        },
        "id": "LZCQq4xMlukZ",
        "outputId": "0f4fe717-4ef2-4454-fead-1c1312e683c1"
      },
      "outputs": [
        {
          "output_type": "stream",
          "name": "stdout",
          "text": [
            "[1, 4, 9, 16, 25, 36, 49, 64, 81]\n"
          ]
        }
      ],
      "source": [
        "lst = [1,2,3,4,5,6,7,8,9]\n",
        "sqr_lst = []\n",
        "for i in lst:\n",
        "    sqr_lst.append(i**2)\n",
        "print(sqr_lst)"
      ]
    },
    {
      "cell_type": "markdown",
      "source": [
        "# Q62. Write a program that can reverse words of a given string.\n",
        "# Eg if the input is Hello how are you\n",
        "# Output should be you are how Hello\n"
      ],
      "metadata": {
        "id": "G2Pf6OokmKcm"
      }
    },
    {
      "cell_type": "code",
      "source": [
        "greet = 'Hello how are you'\n",
        "for i in range(len(greet.split())):\n",
        "    print(greet.split()[-(i+1)], end=' ')"
      ],
      "metadata": {
        "colab": {
          "base_uri": "https://localhost:8080/"
        },
        "id": "3Yg0n9k7mOHN",
        "outputId": "8e588f74-47dd-49cf-ac1e-d40ab396717e"
      },
      "execution_count": 4,
      "outputs": [
        {
          "output_type": "stream",
          "name": "stdout",
          "text": [
            "you are how Hello "
          ]
        }
      ]
    },
    {
      "cell_type": "markdown",
      "source": [
        "# Q63. Write a program that can count the number of words in a given string"
      ],
      "metadata": {
        "id": "0claEmqmmqJF"
      }
    },
    {
      "cell_type": "code",
      "source": [
        "greet = 'Hello how are you'\n",
        "num_of_words = 0\n",
        "for i in greet:\n",
        "    if i != \" \":\n",
        "        num_of_words += 1\n",
        "    \n",
        "print(num_of_words)"
      ],
      "metadata": {
        "colab": {
          "base_uri": "https://localhost:8080/"
        },
        "id": "VEGMIv6xmsJ0",
        "outputId": "127af350-349a-4887-a4f4-f594a2ccd994"
      },
      "execution_count": 5,
      "outputs": [
        {
          "output_type": "stream",
          "name": "stdout",
          "text": [
            "14\n"
          ]
        }
      ]
    },
    {
      "cell_type": "markdown",
      "source": [
        "# Q64. Write a program to check if a list is in ascending order or not\n"
      ],
      "metadata": {
        "id": "8lOBvfIZnAOE"
      }
    },
    {
      "cell_type": "code",
      "source": [
        "lst = [1,2,3,4,5,6,7,8,9,10]\n",
        "\n",
        "def checkAscendingList(lst):\n",
        "    if lst == sorted(lst):\n",
        "        print(f'{lst} is in ascending order')\n",
        "    else:\n",
        "        print(f'{lst} is not in ascending order')\n",
        "\n",
        "checkAscendingList(lst)"
      ],
      "metadata": {
        "colab": {
          "base_uri": "https://localhost:8080/"
        },
        "id": "6LphCNWsnDel",
        "outputId": "3a4e237c-a7b7-4a67-a4ee-4612ae52149d"
      },
      "execution_count": 7,
      "outputs": [
        {
          "output_type": "stream",
          "name": "stdout",
          "text": [
            "[1, 2, 3, 4, 5, 6, 7, 8, 9, 10] is in ascending order\n"
          ]
        }
      ]
    },
    {
      "cell_type": "markdown",
      "source": [
        "# Q65. Create 2 lists from a given list where 1st list will contain all the odd numbers from the original list and the 2nd one will contain all the even numbers "
      ],
      "metadata": {
        "id": "hdq3JvV6ny-b"
      }
    },
    {
      "cell_type": "code",
      "source": [
        "lst = [1,2,3,4,5,6,7,8,9,10]\n",
        "even_lst = []\n",
        "odd_lst = []\n",
        "for i in lst:\n",
        "    if i%2 == 0:\n",
        "        even_lst.append(i)\n",
        "    else:\n",
        "        odd_lst.append(i)\n",
        "\n",
        "print(odd_lst)\n",
        "print(even_lst)\n"
      ],
      "metadata": {
        "colab": {
          "base_uri": "https://localhost:8080/"
        },
        "id": "9ffx789Xn1Tc",
        "outputId": "233e689a-3b0c-46a6-8a97-e2d352b1507a"
      },
      "execution_count": 9,
      "outputs": [
        {
          "output_type": "stream",
          "name": "stdout",
          "text": [
            "[1, 3, 5, 7, 9]\n",
            "[2, 4, 6, 8, 10]\n"
          ]
        }
      ]
    }
  ]
}