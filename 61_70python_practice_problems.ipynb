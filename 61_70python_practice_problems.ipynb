{
  "nbformat": 4,
  "nbformat_minor": 0,
  "metadata": {
    "colab": {
      "name": "61-70python_practice_problems.ipynb",
      "provenance": [],
      "authorship_tag": "ABX9TyNTLB9trZi33vFAJTdsupw5"
    },
    "kernelspec": {
      "name": "python3",
      "display_name": "Python 3"
    },
    "language_info": {
      "name": "python"
    }
  },
  "cells": [
    {
      "cell_type": "markdown",
      "source": [
        "# Q61. Write a program that can create a new list from a given list where each item in the new list is square of the item of the old list"
      ],
      "metadata": {
        "id": "y77samu1lwoH"
      }
    },
    {
      "cell_type": "code",
      "execution_count": 1,
      "metadata": {
        "colab": {
          "base_uri": "https://localhost:8080/"
        },
        "id": "LZCQq4xMlukZ",
        "outputId": "0f4fe717-4ef2-4454-fead-1c1312e683c1"
      },
      "outputs": [
        {
          "output_type": "stream",
          "name": "stdout",
          "text": [
            "[1, 4, 9, 16, 25, 36, 49, 64, 81]\n"
          ]
        }
      ],
      "source": [
        "lst = [1,2,3,4,5,6,7,8,9]\n",
        "sqr_lst = []\n",
        "for i in lst:\n",
        "    sqr_lst.append(i**2)\n",
        "print(sqr_lst)"
      ]
    },
    {
      "cell_type": "markdown",
      "source": [
        "# Q62. Write a program that can reverse words of a given string.\n",
        "# Eg if the input is Hello how are you\n",
        "# Output should be you are how Hello\n"
      ],
      "metadata": {
        "id": "G2Pf6OokmKcm"
      }
    },
    {
      "cell_type": "code",
      "source": [
        "greet = 'Hello how are you'\n",
        "for i in range(len(greet.split())):\n",
        "    print(greet.split()[-(i+1)], end=' ')"
      ],
      "metadata": {
        "colab": {
          "base_uri": "https://localhost:8080/"
        },
        "id": "3Yg0n9k7mOHN",
        "outputId": "8e588f74-47dd-49cf-ac1e-d40ab396717e"
      },
      "execution_count": 4,
      "outputs": [
        {
          "output_type": "stream",
          "name": "stdout",
          "text": [
            "you are how Hello "
          ]
        }
      ]
    },
    {
      "cell_type": "markdown",
      "source": [
        "# Q63. Write a program that can count the number of words in a given string"
      ],
      "metadata": {
        "id": "0claEmqmmqJF"
      }
    },
    {
      "cell_type": "code",
      "source": [
        "greet = 'Hello how are you'\n",
        "num_of_words = 0\n",
        "for i in greet:\n",
        "    if i != \" \":\n",
        "        num_of_words += 1\n",
        "    \n",
        "print(num_of_words)"
      ],
      "metadata": {
        "colab": {
          "base_uri": "https://localhost:8080/"
        },
        "id": "VEGMIv6xmsJ0",
        "outputId": "127af350-349a-4887-a4f4-f594a2ccd994"
      },
      "execution_count": 5,
      "outputs": [
        {
          "output_type": "stream",
          "name": "stdout",
          "text": [
            "14\n"
          ]
        }
      ]
    },
    {
      "cell_type": "markdown",
      "source": [
        "# Q64. Write a program to check if a list is in ascending order or not\n"
      ],
      "metadata": {
        "id": "8lOBvfIZnAOE"
      }
    },
    {
      "cell_type": "code",
      "source": [
        "lst = [1,2,3,4,5,6,7,8,9,10]\n",
        "\n",
        "def checkAscendingList(lst):\n",
        "    if lst == sorted(lst):\n",
        "        print(f'{lst} is in ascending order')\n",
        "    else:\n",
        "        print(f'{lst} is not in ascending order')\n",
        "\n",
        "checkAscendingList(lst)"
      ],
      "metadata": {
        "colab": {
          "base_uri": "https://localhost:8080/"
        },
        "id": "6LphCNWsnDel",
        "outputId": "3a4e237c-a7b7-4a67-a4ee-4612ae52149d"
      },
      "execution_count": 7,
      "outputs": [
        {
          "output_type": "stream",
          "name": "stdout",
          "text": [
            "[1, 2, 3, 4, 5, 6, 7, 8, 9, 10] is in ascending order\n"
          ]
        }
      ]
    },
    {
      "cell_type": "markdown",
      "source": [
        "# Q65. Create 2 lists from a given list where 1st list will contain all the odd numbers from the original list and the 2nd one will contain all the even numbers "
      ],
      "metadata": {
        "id": "hdq3JvV6ny-b"
      }
    },
    {
      "cell_type": "code",
      "source": [
        "lst = [1,2,3,4,5,6,7,8,9,10]\n",
        "even_lst = []\n",
        "odd_lst = []\n",
        "for i in lst:\n",
        "    if i%2 == 0:\n",
        "        even_lst.append(i)\n",
        "    else:\n",
        "        odd_lst.append(i)\n",
        "\n",
        "print(odd_lst)\n",
        "print(even_lst)\n"
      ],
      "metadata": {
        "colab": {
          "base_uri": "https://localhost:8080/"
        },
        "id": "9ffx789Xn1Tc",
        "outputId": "233e689a-3b0c-46a6-8a97-e2d352b1507a"
      },
      "execution_count": 9,
      "outputs": [
        {
          "output_type": "stream",
          "name": "stdout",
          "text": [
            "[1, 3, 5, 7, 9]\n",
            "[2, 4, 6, 8, 10]\n"
          ]
        }
      ]
    },
    {
      "cell_type": "markdown",
      "source": [
        "# Q66. Write a program to merge 2 list without using the + operator"
      ],
      "metadata": {
        "id": "ztav5rLWoux6"
      }
    },
    {
      "cell_type": "code",
      "source": [
        "lst1 = [1, 3, 5, 7, 9]\n",
        "lst2 = [2, 4, 6, 8, 10]\n",
        "for i in lst2:\n",
        "    lst1.append(i)\n",
        "print(lst1)"
      ],
      "metadata": {
        "colab": {
          "base_uri": "https://localhost:8080/"
        },
        "id": "FZODSMM5ox3p",
        "outputId": "7f15bcff-88d8-4167-de69-d263bc195d0d"
      },
      "execution_count": 12,
      "outputs": [
        {
          "output_type": "stream",
          "name": "stdout",
          "text": [
            "[1, 3, 4, 5, 8, 5, 3, 8, 4, 2]\n"
          ]
        }
      ]
    },
    {
      "cell_type": "markdown",
      "source": [
        "# Q67. Write a program to replace an item with a different item if found in the list"
      ],
      "metadata": {
        "id": "uC35J5nCpTj5"
      }
    },
    {
      "cell_type": "code",
      "source": [
        "lst = [1,2, 3,4, 5, 7, 9]\n",
        "for i in lst:\n",
        "    if i%2 == 0:\n",
        "        lst.remove(i)\n",
        "print(lst)"
      ],
      "metadata": {
        "colab": {
          "base_uri": "https://localhost:8080/"
        },
        "id": "riwM5iCspVjy",
        "outputId": "ca76b150-f554-4873-98ed-557223ab7d9e"
      },
      "execution_count": 13,
      "outputs": [
        {
          "output_type": "stream",
          "name": "stdout",
          "text": [
            "[1, 3, 5, 7, 9]\n"
          ]
        }
      ]
    },
    {
      "cell_type": "markdown",
      "source": [
        "# Q68. Write a program that can convert a 2D list to 1D list"
      ],
      "metadata": {
        "id": "3yN6sQTzp2vp"
      }
    },
    {
      "cell_type": "code",
      "source": [
        "lst2D = [[1,2,3,4,5,6]]\n",
        "lst1D = [j for i in lst2D for j in i]\n",
        "print(lst1D)"
      ],
      "metadata": {
        "colab": {
          "base_uri": "https://localhost:8080/"
        },
        "id": "Dn7Eb_pCp40p",
        "outputId": "05fa6266-248e-4612-ef43-4960d382a52f"
      },
      "execution_count": 15,
      "outputs": [
        {
          "output_type": "stream",
          "name": "stdout",
          "text": [
            "[1, 2, 3, 4, 5, 6]\n"
          ]
        }
      ]
    },
    {
      "cell_type": "markdown",
      "source": [
        "# Q69. Write a program that can perform union and intersection on 2 given list."
      ],
      "metadata": {
        "id": "pFEJq1fSqixJ"
      }
    },
    {
      "cell_type": "code",
      "source": [
        "def unionIntersection(lst1, lst2):\n",
        "    unionlst = list(set(lst1+lst2))\n",
        "    intersectionlst = []\n",
        "    for i in lst1:\n",
        "        if i in lst2:\n",
        "            intersectionlst.append(i)\n",
        "\n",
        "    return unionlst, intersectionlst\n",
        "\n",
        "lst1 = [5,3,2,6,7,9]\n",
        "lst2 = [6,2,9,3,5,4,]\n",
        "union, intersect = unionIntersection(lst1, lst2)\n",
        "print(f'Union of {lst1} and {lst2} is {union}')\n",
        "print(f'Intersection of {lst1} and {lst2} is {intersect}')\n"
      ],
      "metadata": {
        "colab": {
          "base_uri": "https://localhost:8080/"
        },
        "id": "ntYDyDaTqkpf",
        "outputId": "6a718941-1fda-4b92-f9ac-75ecf4c5bdaa"
      },
      "execution_count": 17,
      "outputs": [
        {
          "output_type": "stream",
          "name": "stdout",
          "text": [
            "Union of [5, 3, 2, 6, 7, 9] and [6, 2, 9, 3, 5, 4] is [2, 3, 4, 5, 6, 7, 9]\n",
            "Intersection of [5, 3, 2, 6, 7, 9] and [6, 2, 9, 3, 5, 4] is [5, 3, 2, 6, 9]\n"
          ]
        }
      ]
    },
    {
      "cell_type": "markdown",
      "source": [
        "# Q70. Write a program that can print the max item of each row of a matrix."
      ],
      "metadata": {
        "id": "cxM05vbwr4eP"
      }
    },
    {
      "cell_type": "code",
      "source": [
        "matrix = [[1,2,3],\n",
        "          [4,5,6],\n",
        "          [7,8,9]]\n",
        "\n",
        "for i in matrix:\n",
        "    max = 0\n",
        "    for j in i:\n",
        "        if j > max:\n",
        "            max=j\n",
        "    print(max)\n"
      ],
      "metadata": {
        "colab": {
          "base_uri": "https://localhost:8080/"
        },
        "id": "DWZdhV6ur6sO",
        "outputId": "29959bc4-c492-4faf-b9e1-31fb817b80a3"
      },
      "execution_count": 18,
      "outputs": [
        {
          "output_type": "stream",
          "name": "stdout",
          "text": [
            "3\n",
            "6\n",
            "9\n"
          ]
        }
      ]
    }
  ]
}