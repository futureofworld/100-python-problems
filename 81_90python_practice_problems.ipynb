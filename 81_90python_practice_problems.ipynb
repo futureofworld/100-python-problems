{
  "nbformat": 4,
  "nbformat_minor": 0,
  "metadata": {
    "colab": {
      "name": "81_90python_practice_problems.ipynb",
      "provenance": [],
      "authorship_tag": "ABX9TyMoH6iAf5IiITEkOAnjH17g"
    },
    "kernelspec": {
      "name": "python3",
      "display_name": "Python 3"
    },
    "language_info": {
      "name": "python"
    }
  },
  "cells": [
    {
      "cell_type": "markdown",
      "source": [
        "# Q81. Write a function that accepts a string and returns the number of upper case chars and lower case chars as a dictionary"
      ],
      "metadata": {
        "id": "0RX6FHYxk7Fr"
      }
    },
    {
      "cell_type": "code",
      "execution_count": 1,
      "metadata": {
        "colab": {
          "base_uri": "https://localhost:8080/"
        },
        "id": "nshckBBxk6OU",
        "outputId": "e01914d8-1c9b-41ea-8ada-fa2dea4f66bb"
      },
      "outputs": [
        {
          "output_type": "stream",
          "name": "stdout",
          "text": [
            "{'upper': 3, 'lower': 20}\n"
          ]
        }
      ],
      "source": [
        "def check_case(string):\n",
        "    case_dict = {'upper':0,'lower':0}\n",
        "    for i in string:\n",
        "        if i.isupper():\n",
        "            case_dict['upper'] += 1\n",
        "        else:\n",
        "            case_dict['lower'] += 1\n",
        "    return case_dict\n",
        "\n",
        "print(check_case('Hello Welcome to Python'))"
      ]
    },
    {
      "cell_type": "markdown",
      "source": [
        "# Q82. Write a function that accepts a list of strings and performs Bag of words and convert it to numerical vectors.\n",
        "https://en.wikipedia.org/wiki/Bag-of-words_model\n"
      ],
      "metadata": {
        "id": "hWIMCQxnmWV5"
      }
    },
    {
      "cell_type": "markdown",
      "source": [
        "# Q83. Write a dummy program that can perform login and registration using a menu driven program"
      ],
      "metadata": {
        "id": "kZiM8kM_mbTw"
      }
    },
    {
      "cell_type": "code",
      "source": [
        "def login_page():\n",
        "    username = input('Enter username: ')\n",
        "    password = input('Enter password: ')\n",
        "    print('You have logged in')\n",
        "\n",
        "def registration():\n",
        "    email = input('Enter your email address: ')\n",
        "    password = input('Enter a strong password: ')\n",
        "    print(f'Welcome {email} to our python world')\n",
        "\n",
        "def page():\n",
        "    num = input('Press 1 for login\\npress 2 for registration\\n')\n",
        "    if num == '1':\n",
        "        login_page()\n",
        "    else:\n",
        "        registration()\n",
        "\n",
        "page()"
      ],
      "metadata": {
        "colab": {
          "base_uri": "https://localhost:8080/"
        },
        "id": "bsNzXHRsmmo4",
        "outputId": "73c29de8-0114-4285-9cfb-34b606800e5b"
      },
      "execution_count": 5,
      "outputs": [
        {
          "output_type": "stream",
          "name": "stdout",
          "text": [
            "Press 1 for login\n",
            "press 2 for registration\n",
            "2\n",
            "Enter your email address: 123@gmail.com\n",
            "Enter a strong password: 123456\n",
            "Welcome 123@gmail.com to our python world\n"
          ]
        }
      ]
    },
    {
      "cell_type": "markdown",
      "source": [
        "# Q84. Write a program that accepts neighbors(set of 2D co-ordinates) and a point(single 2D co-ordinate) and tells nearest neighbor(in terms of euclidean distance)"
      ],
      "metadata": {
        "id": "EDNzK6aSmfQg"
      }
    },
    {
      "cell_type": "code",
      "source": [
        "import math\n",
        "def euclidean(x1,y1,x2,y2,x,y):\n",
        "    dist1 = math.sqrt(((x-x1)**2) + ((y-y1)**2))\n",
        "    dist2 = math.sqrt(((x-x2)**2) + ((y-y2)**2))\n",
        "    if dist1 < dist2:\n",
        "        print(f'{x1,y1} is closer to {x,y}')\n",
        "    else:\n",
        "        print(f'{x2,y2} is closer to {x,y}')\n",
        "\n",
        "euclidean(1,2,3,4,6,5)"
      ],
      "metadata": {
        "colab": {
          "base_uri": "https://localhost:8080/"
        },
        "id": "YsdcFTxeoMUW",
        "outputId": "a86d245c-64c4-44f9-808d-21034eb4a111"
      },
      "execution_count": 8,
      "outputs": [
        {
          "output_type": "stream",
          "name": "stdout",
          "text": [
            "(3, 4) is closer to (6, 5)\n"
          ]
        }
      ]
    },
    {
      "cell_type": "markdown",
      "source": [
        "# Q85. Write a function that accepts a number and returns it’s factorial. You can not use any loop"
      ],
      "metadata": {
        "id": "GMFsn_bYmi5y"
      }
    },
    {
      "cell_type": "code",
      "source": [
        "def factorial(num):\n",
        "    if num == 1:\n",
        "        return 1\n",
        "    return num * factorial(num-1)\n",
        "\n",
        "factorial(5)"
      ],
      "metadata": {
        "colab": {
          "base_uri": "https://localhost:8080/"
        },
        "id": "WoejCu9ypKpu",
        "outputId": "5e5045e0-7280-4d09-f7ca-6e83dc42a1ab"
      },
      "execution_count": 9,
      "outputs": [
        {
          "output_type": "execute_result",
          "data": {
            "text/plain": [
              "120"
            ]
          },
          "metadata": {},
          "execution_count": 9
        }
      ]
    }
  ]
}