{
  "nbformat": 4,
  "nbformat_minor": 0,
  "metadata": {
    "colab": {
      "name": "1-10python_practice_problems.ipynb",
      "provenance": [],
      "authorship_tag": "ABX9TyOVDJ54qyrYOJ67NBWC/9w+"
    },
    "kernelspec": {
      "name": "python3",
      "display_name": "Python 3"
    },
    "language_info": {
      "name": "python"
    }
  },
  "cells": [
    {
      "cell_type": "markdown",
      "source": [
        "# Q1. User will input (3ages).Find the oldest one"
      ],
      "metadata": {
        "id": "n1ZfeFC-sT6v"
      }
    },
    {
      "cell_type": "code",
      "execution_count": 1,
      "metadata": {
        "colab": {
          "base_uri": "https://localhost:8080/"
        },
        "id": "8KGPCPKjpNuw",
        "outputId": "eb37a92f-271d-4a72-c9cf-37b49a61a595"
      },
      "outputs": [
        {
          "output_type": "stream",
          "name": "stdout",
          "text": [
            "Enter first age: 10\n",
            "Enter second age: 20\n",
            "Enter third age: 30\n",
            "Enter age in numbers\n"
          ]
        }
      ],
      "source": [
        "def enterAge():\n",
        "    age1 = float(input('Enter first age: '))\n",
        "    age2 = float(input('Enter second age: '))\n",
        "    age3 = float(input('Enter third age: '))\n",
        "\n",
        "def checkOldest():\n",
        "    if(age1>age2):\n",
        "        if(age1>age3):\n",
        "            print(f\"{age1} is oldest\")\n",
        "        else:\n",
        "            print(f'{age2} is oldest')\n",
        "    else:\n",
        "        if(age2>age3):\n",
        "            print(f'{age2} is oldest')\n",
        "        else:\n",
        "            print(f'{age3} is oldest')\n",
        "\n",
        "try:\n",
        "    enterAge()\n",
        "    checkOldest()\n",
        "except:\n",
        "    print('Enter age in numbers')"
      ]
    },
    {
      "cell_type": "markdown",
      "source": [
        "# Q2. Write a program that will convert celsius value to fahrenheit\n"
      ],
      "metadata": {
        "id": "cJzkas-huszb"
      }
    },
    {
      "cell_type": "code",
      "source": [
        "# formula: F = C *(9/5) + 32\n",
        "celsius = float(input('Enter the Temperature in Celsius: '))\n",
        "fahrenheit = celsius*(9/5) + 32\n",
        "print(f'{celsius}°C is {fahrenheit}°F')"
      ],
      "metadata": {
        "colab": {
          "base_uri": "https://localhost:8080/"
        },
        "id": "QtbiunXltQKl",
        "outputId": "ac8e9af4-febf-4b4f-a90a-021179df364a"
      },
      "execution_count": 2,
      "outputs": [
        {
          "output_type": "stream",
          "name": "stdout",
          "text": [
            "Enter the Temperature in Celsius: 35\n",
            "35.0°C is 95.0°F\n"
          ]
        }
      ]
    },
    {
      "cell_type": "markdown",
      "source": [
        "# Q3. User will input (2numbers).Write a program to swap the numbers"
      ],
      "metadata": {
        "id": "j_rVaPvpw2J4"
      }
    },
    {
      "cell_type": "code",
      "source": [
        "def swapNumbers(num1, num2):\n",
        "    temp = num1\n",
        "    num1 = num2\n",
        "    num2 = temp\n",
        "    return num1, num2\n",
        "\n",
        "try:\n",
        "    num1 = int(input('Enter number 1: '))\n",
        "    num2 = int(input('Enter number 2: '))\n",
        "except:\n",
        "    print('Please Enter Number')\n",
        "\n",
        "print(f'Before swapping num1 is {num1} and num2 is {num2}')\n",
        "num1, num2 = swapNumbers(num1, num2)\n",
        "print(f'After swapping num1 is {num1} and num2 is {num2}')"
      ],
      "metadata": {
        "colab": {
          "base_uri": "https://localhost:8080/"
        },
        "id": "e4Kon0RAwEEq",
        "outputId": "c5237dc8-fbc1-4206-ee8b-d3347e73b7f8"
      },
      "execution_count": 3,
      "outputs": [
        {
          "output_type": "stream",
          "name": "stdout",
          "text": [
            "Enter number 1: 10\n",
            "Enter number 2: 20\n",
            "Before swapping num1 is 10 and num2 is 20\n",
            "After swapping num1 is 20 and num2 is 10\n"
          ]
        }
      ]
    },
    {
      "cell_type": "markdown",
      "source": [
        "# Q4. Write a program that will give you the sum of 3 digit"
      ],
      "metadata": {
        "id": "fJ9gAWbNyDAf"
      }
    },
    {
      "cell_type": "code",
      "source": [
        "def sumOfThreeDigits(num1, num2, num3):\n",
        "    return num1+num2+num3\n",
        "\n",
        "try:\n",
        "    num1 = int(input('Enter number 1: '))\n",
        "    num2 = int(input('Enter number 2: '))\n",
        "    num3 = int(input('Enter number 3: '))\n",
        "except:\n",
        "    print('Please Enter Number')\n",
        "\n",
        "print(f'Sum of Three Digits is {sumOfThreeDigits(num1, num2, num3)}')"
      ],
      "metadata": {
        "colab": {
          "base_uri": "https://localhost:8080/"
        },
        "id": "069Pte8xxzCQ",
        "outputId": "6722cda3-2c14-434e-8894-e341563ef360"
      },
      "execution_count": 4,
      "outputs": [
        {
          "output_type": "stream",
          "name": "stdout",
          "text": [
            "Enter number 1: 10\n",
            "Enter number 2: 20\n",
            "Enter number 3: 30\n",
            "Sum of Three Digits is 60\n"
          ]
        }
      ]
    },
    {
      "cell_type": "markdown",
      "source": [
        "# Q5. Write a program that will reverse a four digit number.Also it checks whether the reverse is true."
      ],
      "metadata": {
        "id": "gxxGBdHYzDlW"
      }
    },
    {
      "cell_type": "code",
      "source": [
        "def reverse(num):\n",
        "    if (len(num) == 1):\n",
        "        return num\n",
        "    return num[-1] + reverse(num[:-1])\n",
        "\n",
        "num = input(\"Enter a Number to reverse: \")\n",
        "\n",
        "print(f'Reverse of {num} is {reverse(num)}')\n"
      ],
      "metadata": {
        "colab": {
          "base_uri": "https://localhost:8080/"
        },
        "id": "yLVgcri7y4M3",
        "outputId": "1a8a5784-3c2a-4e72-e7b7-b1697e2a22b6"
      },
      "execution_count": 5,
      "outputs": [
        {
          "output_type": "stream",
          "name": "stdout",
          "text": [
            "Enter a Number to reverse: 123456\n",
            "Reverse of 123456 is 654321\n"
          ]
        }
      ]
    },
    {
      "cell_type": "markdown",
      "source": [
        "# Q6. Write a program that will tell whether the number entered by the user is odd or even."
      ],
      "metadata": {
        "id": "IbwZeaLs079k"
      }
    },
    {
      "cell_type": "code",
      "source": [
        "def checkOddEven(num):\n",
        "    if (num%2 == 0):\n",
        "        return f\"{num} is even number\"\n",
        "    else:\n",
        "        return f\"{num} is odd number\"\n",
        "\n",
        "num = int(input('Enter a Number: '))\n",
        "\n",
        "print(checkOddEven(num))"
      ],
      "metadata": {
        "colab": {
          "base_uri": "https://localhost:8080/"
        },
        "id": "pFr_Wuvgz3pm",
        "outputId": "7e9ab76c-8b7e-4654-b751-9aabfa45313b"
      },
      "execution_count": 6,
      "outputs": [
        {
          "output_type": "stream",
          "name": "stdout",
          "text": [
            "Enter a Number: 12\n",
            "12 is even number\n"
          ]
        }
      ]
    },
    {
      "cell_type": "markdown",
      "source": [
        "# Q7. Write a program that will tell whether the given year is a leap year or not."
      ],
      "metadata": {
        "id": "w6_s0GYp1k2b"
      }
    },
    {
      "cell_type": "code",
      "source": [
        "year = int(input('Enter a Year: '))\n",
        "\n",
        "if (year%4==0 and year%100==0 and year%400==0) or (year%4==0 and year%100==0):\n",
        "    print(f'{year} is a leap year')\n",
        "else:\n",
        "    print(f'{year} is not a leap year')"
      ],
      "metadata": {
        "colab": {
          "base_uri": "https://localhost:8080/"
        },
        "id": "QPrD2EU11czd",
        "outputId": "f17b7873-b5fb-48fe-c451-c9bf7854d73b"
      },
      "execution_count": 7,
      "outputs": [
        {
          "output_type": "stream",
          "name": "stdout",
          "text": [
            "Enter a Year: 2000\n",
            "2000 is a leap year\n"
          ]
        }
      ]
    },
    {
      "cell_type": "markdown",
      "source": [
        "# Q8. Write a program to find the euclidean distance between two coordinates."
      ],
      "metadata": {
        "id": "0gengxOR22X6"
      }
    },
    {
      "cell_type": "code",
      "source": [
        "import math\n",
        "def euclideanDistance(x1, y1, x2, y2):\n",
        "    return math.sqrt(((x2-x1)**2)+((y2-y1)**2))\n",
        "\n",
        "x1, y1 = input('Enter first co-ordinate: ').split(',')\n",
        "x2, y2 = input('Enter second co-ordinate: ').split(',')\n",
        "\n",
        "print(euclideanDistance(int(x1), int(y1), int(x2), int(y2)))"
      ],
      "metadata": {
        "colab": {
          "base_uri": "https://localhost:8080/"
        },
        "id": "FxLE4KWp263D",
        "outputId": "6932d56c-7356-4069-8d16-fe9ae7f6c70e"
      },
      "execution_count": 8,
      "outputs": [
        {
          "output_type": "stream",
          "name": "stdout",
          "text": [
            "Enter first co-ordinate: 1,2\n",
            "Enter second co-ordinate: 2,3\n",
            "1.4142135623730951\n"
          ]
        }
      ]
    },
    {
      "cell_type": "markdown",
      "source": [
        "# Q9. Write a program that take a user inputr of three angles and will find out whether it can form a triangle or not."
      ],
      "metadata": {
        "id": "u30KDkvM6gB2"
      }
    },
    {
      "cell_type": "code",
      "source": [
        "def checkTriangle(angle1, angle2, angle3):\n",
        "    if (angle1 + angle2 + angle3 == 180):\n",
        "        return 'It can form a Triangle'\n",
        "    else:\n",
        "        return 'It cannot form a Triangle'\n",
        "\n",
        "angle1 = int(input(\"Enter first angle: \"))\n",
        "angle2 = int(input(\"Enter second angle: \"))\n",
        "angle3 = int(input(\"Enter third angle: \"))\n",
        "\n",
        "print(checkTriangle(angle1, angle2, angle3))"
      ],
      "metadata": {
        "colab": {
          "base_uri": "https://localhost:8080/"
        },
        "id": "UCHPr80n3_46",
        "outputId": "5c1ccac5-19b8-4cb2-8599-2e13e87baed6"
      },
      "execution_count": 9,
      "outputs": [
        {
          "output_type": "stream",
          "name": "stdout",
          "text": [
            "Enter first angle: 30\n",
            "Enter second angle: 60\n",
            "Enter third angle: 90\n",
            "It can form a Triangle\n"
          ]
        }
      ]
    },
    {
      "cell_type": "markdown",
      "source": [
        "# Q10. Write a program that will take user input of cost price and selling price and determines whether its a loss or a profit"
      ],
      "metadata": {
        "id": "Ojh4-HtC7WJu"
      }
    },
    {
      "cell_type": "code",
      "source": [
        "cost = int(input(\"Enter a Cost Price: \"))\n",
        "selling = int(input(\"Enter a selling Price: \"))\n",
        "\n",
        "if cost>selling:\n",
        "    print(\"Your are in loss\")\n",
        "else:\n",
        "    print(f'You are making profit of {selling-cost} Rupees')"
      ],
      "metadata": {
        "colab": {
          "base_uri": "https://localhost:8080/"
        },
        "id": "6l40Ljup7Pi_",
        "outputId": "955bd253-4f3d-4242-95c0-f003427796fb"
      },
      "execution_count": 10,
      "outputs": [
        {
          "output_type": "stream",
          "name": "stdout",
          "text": [
            "Enter a Cost Price: 30\n",
            "Enter a selling Price: 60\n",
            "You are making profit of 30 Ruppes\n"
          ]
        }
      ]
    }
  ]
}