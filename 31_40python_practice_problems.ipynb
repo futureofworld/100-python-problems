{
  "nbformat": 4,
  "nbformat_minor": 0,
  "metadata": {
    "colab": {
      "name": "31-40python_practice_problems.ipynb",
      "provenance": [],
      "authorship_tag": "ABX9TyM5kSUnhFS3XcCEydBXWsCN",
      "include_colab_link": true
    },
    "kernelspec": {
      "name": "python3",
      "display_name": "Python 3"
    },
    "language_info": {
      "name": "python"
    }
  },
  "cells": [
    {
      "cell_type": "markdown",
      "metadata": {
        "id": "view-in-github",
        "colab_type": "text"
      },
      "source": [
        "<a href=\"https://colab.research.google.com/github/futureofworld/100-python-problems/blob/main/31_40python_practice_problems.ipynb\" target=\"_parent\"><img src=\"https://colab.research.google.com/assets/colab-badge.svg\" alt=\"Open In Colab\"/></a>"
      ]
    },
    {
      "cell_type": "markdown",
      "source": [
        "# Q31. User will provide 2 numbers you have to find the HCF of those 2 numbers"
      ],
      "metadata": {
        "id": "4lZtESINFdvv"
      }
    },
    {
      "cell_type": "code",
      "execution_count": null,
      "metadata": {
        "colab": {
          "base_uri": "https://localhost:8080/"
        },
        "id": "4_mD_FO7Fcjw",
        "outputId": "37dadafa-e614-4aaf-cc64-64c58c64fe57"
      },
      "outputs": [
        {
          "output_type": "stream",
          "name": "stdout",
          "text": [
            "Enter a first number: 12\n",
            "Enter a second number: 18\n",
            "L.C.M of 12 and 18 is 36\n"
          ]
        }
      ],
      "source": [
        "def lcm(a, b):\n",
        "    if a>b:\n",
        "        greater=a\n",
        "    else:\n",
        "        greater=b\n",
        "    \n",
        "    while True:\n",
        "        if((greater%a == 0) and (greater%b == 0)):\n",
        "            lcm = greater\n",
        "            break\n",
        "\n",
        "        greater += 1\n",
        "        \n",
        "    return lcm\n",
        "\n",
        "a = int(input('Enter a first number: '))\n",
        "b = int(input('Enter a second number: '))\n",
        "\n",
        "print(f'L.C.M of {a} and {b} is {lcm(a,b)}')"
      ]
    },
    {
      "cell_type": "markdown",
      "source": [
        "# Q32. Print first 25 prime numbers"
      ],
      "metadata": {
        "id": "F0L-ZnpYG4ks"
      }
    },
    {
      "cell_type": "code",
      "source": [
        "def seive(count):\n",
        "    prime = [0]*100\n",
        "    for i in range(2, 100):\n",
        "        if(prime[i] == 0):\n",
        "            for j in range(i**2, 100, i):\n",
        "                prime[j] = 1\n",
        "\n",
        "    for i in range(2, 100):\n",
        "        if (count>=0):\n",
        "            if (prime[i] == 0):\n",
        "                print(i)\n",
        "                count-=1\n",
        "        else:\n",
        "            break\n",
        "\n",
        "seive(25)"
      ],
      "metadata": {
        "colab": {
          "base_uri": "https://localhost:8080/"
        },
        "id": "ie22Pw6oG698",
        "outputId": "d0532d55-9789-4e7a-da17-4f1b0158c0d8"
      },
      "execution_count": null,
      "outputs": [
        {
          "output_type": "stream",
          "name": "stdout",
          "text": [
            "2\n",
            "3\n",
            "5\n",
            "7\n",
            "11\n",
            "13\n",
            "17\n",
            "19\n",
            "23\n",
            "29\n",
            "31\n",
            "37\n",
            "41\n",
            "43\n",
            "47\n",
            "53\n",
            "59\n",
            "61\n",
            "67\n",
            "71\n",
            "73\n",
            "79\n",
            "83\n",
            "89\n",
            "97\n"
          ]
        }
      ]
    },
    {
      "cell_type": "markdown",
      "source": [
        "# Q33. Print the first 20 numbers of a Fibonacci series"
      ],
      "metadata": {
        "id": "tVpjBQ7sG6bb"
      }
    },
    {
      "cell_type": "code",
      "source": [
        "def fibonacci(first, second, num):\n",
        "    if num==0:\n",
        "        return \n",
        "    if first == 0:\n",
        "        print(first)\n",
        "        \n",
        "    print(second)\n",
        "    temp = first\n",
        "    first = second\n",
        "    second = temp + first\n",
        "    fibonacci(first, second, num-1)\n",
        "\n",
        "fibonacci(0,1,20)"
      ],
      "metadata": {
        "colab": {
          "base_uri": "https://localhost:8080/"
        },
        "id": "zpjkGfVIJSXa",
        "outputId": "1b260dc8-7019-4dc7-f7f7-a59193b0dc52"
      },
      "execution_count": null,
      "outputs": [
        {
          "output_type": "stream",
          "name": "stdout",
          "text": [
            "0\n",
            "1\n",
            "1\n",
            "2\n",
            "3\n",
            "5\n",
            "8\n",
            "13\n",
            "21\n",
            "34\n",
            "55\n",
            "89\n",
            "144\n",
            "233\n",
            "377\n",
            "610\n",
            "987\n",
            "1597\n",
            "2584\n",
            "4181\n",
            "6765\n"
          ]
        }
      ]
    },
    {
      "cell_type": "markdown",
      "source": [
        "# Q34. Write a program to find the compound interest"
      ],
      "metadata": {
        "id": "hRZITnxYKiy4"
      }
    },
    {
      "cell_type": "code",
      "source": [
        ""
      ],
      "metadata": {
        "id": "t_A4yfbwKkWJ"
      },
      "execution_count": null,
      "outputs": []
    },
    {
      "cell_type": "markdown",
      "source": [
        "# Q35. Write a Python program that accepts an integer (n) and computes the value of n+nn+nnn."
      ],
      "metadata": {
        "id": "Aas6Xeq8Ky9I"
      }
    },
    {
      "cell_type": "code",
      "source": [
        "def compute(num):\n",
        "    n = str(num)\n",
        "    single_n = num\n",
        "    double_n = int(n*2)\n",
        "    triple_n = int(n*3)\n",
        "    return single_n + double_n + triple_n\n",
        "\n",
        "print(compute(5))"
      ],
      "metadata": {
        "colab": {
          "base_uri": "https://localhost:8080/"
        },
        "id": "CvcBup7wK03o",
        "outputId": "6c8faa42-ee29-47f9-8149-e35f7e8bc54d"
      },
      "execution_count": null,
      "outputs": [
        {
          "output_type": "stream",
          "name": "stdout",
          "text": [
            "615\n"
          ]
        }
      ]
    },
    {
      "cell_type": "markdown",
      "source": [
        "# Q36. Take a number from the user and find the number of digits in it."
      ],
      "metadata": {
        "id": "JYHb9grcLe2n"
      }
    },
    {
      "cell_type": "code",
      "source": [
        "num = int(input('Enter a number: '))\n",
        "\n",
        "def numOfDigits(num):\n",
        "    sum = 1\n",
        "    for i in range(10):\n",
        "        if(num<10):\n",
        "            break\n",
        "        else:\n",
        "            num = num//10\n",
        "            sum+=1\n",
        "    return sum\n",
        "\n",
        "# another method\n",
        "# def digits(num):\n",
        "#     return len(str(num))\n",
        "\n",
        "print(f'{num} conatins {numOfDigits(num)}')"
      ],
      "metadata": {
        "colab": {
          "base_uri": "https://localhost:8080/"
        },
        "id": "K96PtgfmLhCx",
        "outputId": "3c270a0e-c1ba-48b0-a261-1b495e0d16a2"
      },
      "execution_count": null,
      "outputs": [
        {
          "output_type": "stream",
          "name": "stdout",
          "text": [
            "Enter a number: 1234568\n",
            "1234568 conatins 7\n"
          ]
        }
      ]
    }
  ]
}