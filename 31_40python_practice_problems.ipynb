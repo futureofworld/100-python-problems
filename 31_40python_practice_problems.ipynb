{
  "nbformat": 4,
  "nbformat_minor": 0,
  "metadata": {
    "colab": {
      "name": "31-40python_practice_problems.ipynb",
      "provenance": [],
      "authorship_tag": "ABX9TyP8BhFt1NhrL+OSlqg1yBeD"
    },
    "kernelspec": {
      "name": "python3",
      "display_name": "Python 3"
    },
    "language_info": {
      "name": "python"
    }
  },
  "cells": [
    {
      "cell_type": "markdown",
      "source": [
        "# Q31. User will provide 2 numbers you have to find the HCF of those 2 numbers"
      ],
      "metadata": {
        "id": "4lZtESINFdvv"
      }
    },
    {
      "cell_type": "code",
      "execution_count": 1,
      "metadata": {
        "colab": {
          "base_uri": "https://localhost:8080/"
        },
        "id": "4_mD_FO7Fcjw",
        "outputId": "5a783f86-0149-45e2-dd5a-cdd34bcfc9c6"
      },
      "outputs": [
        {
          "output_type": "stream",
          "name": "stdout",
          "text": [
            "Enter a first number: 12\n",
            "Enter a second number: 18\n",
            "L.C.M of 12 and 18 is 36\n"
          ]
        }
      ],
      "source": [
        "def lcm(a, b):\n",
        "    if a>b:\n",
        "        greater=a\n",
        "    else:\n",
        "        greater=b\n",
        "    \n",
        "    while True:\n",
        "        if((greater%a == 0) and (greater%b == 0)):\n",
        "            lcm = greater\n",
        "            break\n",
        "\n",
        "        greater += 1\n",
        "        \n",
        "    return lcm\n",
        "\n",
        "a = int(input('Enter a first number: '))\n",
        "b = int(input('Enter a second number: '))\n",
        "\n",
        "print(f'L.C.M of {a} and {b} is {lcm(a,b)}')"
      ]
    },
    {
      "cell_type": "markdown",
      "source": [
        "# Q32. Print first 25 prime numbers"
      ],
      "metadata": {
        "id": "F0L-ZnpYG4ks"
      }
    },
    {
      "cell_type": "code",
      "source": [
        "def seive(count):\n",
        "    prime = [0]*100\n",
        "    for i in range(2, 100):\n",
        "        if(prime[i] == 0):\n",
        "            for j in range(i**2, 100, i):\n",
        "                prime[j] = 1\n",
        "\n",
        "    for i in range(2, 100):\n",
        "        if (count>=0):\n",
        "            if (prime[i] == 0):\n",
        "                print(i)\n",
        "                count-=1\n",
        "        else:\n",
        "            break\n",
        "\n",
        "seive(25)"
      ],
      "metadata": {
        "colab": {
          "base_uri": "https://localhost:8080/"
        },
        "id": "ie22Pw6oG698",
        "outputId": "cf7df30c-0dcb-46f6-814f-0b68b7173c50"
      },
      "execution_count": 2,
      "outputs": [
        {
          "output_type": "stream",
          "name": "stdout",
          "text": [
            "2\n",
            "3\n",
            "5\n",
            "7\n",
            "11\n",
            "13\n",
            "17\n",
            "19\n",
            "23\n",
            "29\n",
            "31\n",
            "37\n",
            "41\n",
            "43\n",
            "47\n",
            "53\n",
            "59\n",
            "61\n",
            "67\n",
            "71\n",
            "73\n",
            "79\n",
            "83\n",
            "89\n",
            "97\n"
          ]
        }
      ]
    },
    {
      "cell_type": "markdown",
      "source": [
        "# Q33. Print the first 20 numbers of a Fibonacci series"
      ],
      "metadata": {
        "id": "tVpjBQ7sG6bb"
      }
    },
    {
      "cell_type": "code",
      "source": [
        "def fibonacci(first, second, num):\n",
        "    if num==0:\n",
        "        return \n",
        "    if first == 0:\n",
        "        print(first)\n",
        "        \n",
        "    print(second)\n",
        "    temp = first\n",
        "    first = second\n",
        "    second = temp + first\n",
        "    fibonacci(first, second, num-1)\n",
        "\n",
        "fibonacci(0,1,20)"
      ],
      "metadata": {
        "colab": {
          "base_uri": "https://localhost:8080/"
        },
        "id": "zpjkGfVIJSXa",
        "outputId": "e5fac930-d808-4eb6-b9cf-621b952d5bce"
      },
      "execution_count": 3,
      "outputs": [
        {
          "output_type": "stream",
          "name": "stdout",
          "text": [
            "0\n",
            "1\n",
            "1\n",
            "2\n",
            "3\n",
            "5\n",
            "8\n",
            "13\n",
            "21\n",
            "34\n",
            "55\n",
            "89\n",
            "144\n",
            "233\n",
            "377\n",
            "610\n",
            "987\n",
            "1597\n",
            "2584\n",
            "4181\n",
            "6765\n"
          ]
        }
      ]
    },
    {
      "cell_type": "markdown",
      "source": [
        "# Q34. Write a program to find the compound interest"
      ],
      "metadata": {
        "id": "hRZITnxYKiy4"
      }
    },
    {
      "cell_type": "code",
      "source": [
        "# compound interest = 1+ rate of interest/no of years\n",
        "def compInt(rate, year):\n",
        "    return 1 + (rate/year)\n",
        "\n",
        "rate = int(input('Enter rate of interest: '))\n",
        "year = int(input('Eneter the time in year: '))\n",
        "print(f'Compound interest for {year} year and of rate {rate}% is {compInt(rate, year):.2f}')"
      ],
      "metadata": {
        "id": "t_A4yfbwKkWJ",
        "colab": {
          "base_uri": "https://localhost:8080/"
        },
        "outputId": "e99bf7a9-6c9b-4e0f-ef32-8e072f467f60"
      },
      "execution_count": 12,
      "outputs": [
        {
          "output_type": "stream",
          "name": "stdout",
          "text": [
            "Enter rate of interest: 4\n",
            "Eneter the time in year: 3\n",
            "Compound interest for 3 year and of rate 4% is 2.33\n"
          ]
        }
      ]
    },
    {
      "cell_type": "markdown",
      "source": [
        "# Q35. Write a Python program that accepts an integer (n) and computes the value of n+nn+nnn."
      ],
      "metadata": {
        "id": "Aas6Xeq8Ky9I"
      }
    },
    {
      "cell_type": "code",
      "source": [
        "def compute(num):\n",
        "    n = str(num)\n",
        "    single_n = num\n",
        "    double_n = int(n*2)\n",
        "    triple_n = int(n*3)\n",
        "    return single_n + double_n + triple_n\n",
        "\n",
        "print(compute(5))"
      ],
      "metadata": {
        "colab": {
          "base_uri": "https://localhost:8080/"
        },
        "id": "CvcBup7wK03o",
        "outputId": "228a486b-45b6-41bb-eb21-ce0def6c27b5"
      },
      "execution_count": 4,
      "outputs": [
        {
          "output_type": "stream",
          "name": "stdout",
          "text": [
            "615\n"
          ]
        }
      ]
    },
    {
      "cell_type": "markdown",
      "source": [
        "# Q36. Take a number from the user and find the number of digits in it."
      ],
      "metadata": {
        "id": "JYHb9grcLe2n"
      }
    },
    {
      "cell_type": "code",
      "source": [
        "num = int(input('Enter a number: '))\n",
        "\n",
        "def numOfDigits(num):\n",
        "    sum = 1\n",
        "    for i in range(10):\n",
        "        if(num<10):\n",
        "            break\n",
        "        else:\n",
        "            num = num//10\n",
        "            sum+=1\n",
        "    return sum\n",
        "\n",
        "# another method\n",
        "# def digits(num):\n",
        "#     return len(str(num))\n",
        "\n",
        "print(f'{num} conatins {numOfDigits(num)}')"
      ],
      "metadata": {
        "colab": {
          "base_uri": "https://localhost:8080/"
        },
        "id": "K96PtgfmLhCx",
        "outputId": "1df49cbe-ef81-4a74-a372-108e1d611ead"
      },
      "execution_count": 5,
      "outputs": [
        {
          "output_type": "stream",
          "name": "stdout",
          "text": [
            "Enter a number: 123456\n",
            "123456 conatins 6\n"
          ]
        }
      ]
    },
    {
      "cell_type": "markdown",
      "source": [
        "# Q37. Print all factors of a given number provided by the user."
      ],
      "metadata": {
        "id": "HqwJojFjZthA"
      }
    },
    {
      "cell_type": "code",
      "source": [
        "num = int(input('Enter a number: '))\n",
        "\n",
        "def factors(num):\n",
        "    i = 2\n",
        "    factors = [1]\n",
        "    while num>1:\n",
        "        if num%i == 0:\n",
        "            num = num/i\n",
        "            factors.append(i)\n",
        "        else:\n",
        "            i+=1\n",
        "    return factors\n",
        "\n",
        "print(f'factors of {num} is {factors(num)}')"
      ],
      "metadata": {
        "colab": {
          "base_uri": "https://localhost:8080/"
        },
        "id": "UjY_QjDBZ0pn",
        "outputId": "ba737e11-272f-423e-93cb-5b09360a52f4"
      },
      "execution_count": 6,
      "outputs": [
        {
          "output_type": "stream",
          "name": "stdout",
          "text": [
            "Enter a number: 18\n",
            "factors of 18 is [1, 2, 3, 3]\n"
          ]
        }
      ]
    },
    {
      "cell_type": "markdown",
      "source": [
        "# Q38. Find the reverse of a number provided by the user(any number of digit)"
      ],
      "metadata": {
        "id": "QYRCR8hCcHu1"
      }
    },
    {
      "cell_type": "code",
      "source": [
        "num = int(input('Enter a number: '))\n",
        "\n",
        "def reverse(num):\n",
        "    if(num<10):\n",
        "        return str(num)\n",
        "    return str(num%10) + str(reverse(num//10))\n",
        "\n",
        "print(f'Reverse of {num} is {reverse(num)}')"
      ],
      "metadata": {
        "colab": {
          "base_uri": "https://localhost:8080/"
        },
        "id": "XaYKzho1cKq_",
        "outputId": "cbe7dee2-5cc4-4732-b90e-1f6d44745949"
      },
      "execution_count": 7,
      "outputs": [
        {
          "output_type": "stream",
          "name": "stdout",
          "text": [
            "Enter a number: 123456\n",
            "Reverse of 123456 is 654321\n"
          ]
        }
      ]
    },
    {
      "cell_type": "markdown",
      "source": [
        "# Q39. Write a program to print the following pattern\n",
        "\n",
        "```\n",
        "*\n",
        "**\n",
        "***\n",
        "****\n",
        "*****\n",
        "```"
      ],
      "metadata": {
        "id": "Rq4v4_lXdAFU"
      }
    },
    {
      "cell_type": "code",
      "source": [
        "for i in range(5):\n",
        "    for j in range(5):\n",
        "        if (i>=j):\n",
        "            print('*', end=\"\")\n",
        "    print('')"
      ],
      "metadata": {
        "colab": {
          "base_uri": "https://localhost:8080/"
        },
        "id": "heIC7Gp1dOLk",
        "outputId": "9b7cd6ff-de31-4ab2-d9b2-bc320af3771e"
      },
      "execution_count": 8,
      "outputs": [
        {
          "output_type": "stream",
          "name": "stdout",
          "text": [
            "*\n",
            "**\n",
            "***\n",
            "****\n",
            "*****\n"
          ]
        }
      ]
    },
    {
      "cell_type": "markdown",
      "source": [
        "# Q40. Write a program to print the following pattern\n",
        "```\n",
        "*\n",
        "**\n",
        "***\n",
        "**\n",
        "*\n",
        "\n",
        "```\n",
        "\n"
      ],
      "metadata": {
        "id": "NnUK5iMSeo49"
      }
    },
    {
      "cell_type": "code",
      "source": [
        "for i in range(3):\n",
        "    for j in range(3):\n",
        "        if(i>=j):\n",
        "            print(\"*\", end='')\n",
        "    print('')\n",
        "i=3\n",
        "while i>=1:\n",
        "    for j in range(i-1):\n",
        "        print('*', end='')\n",
        "    i-=1   \n",
        "    print('')    \n",
        "    "
      ],
      "metadata": {
        "colab": {
          "base_uri": "https://localhost:8080/"
        },
        "id": "oxnWlEl7eyy9",
        "outputId": "a5f51179-d7a7-49f9-ebb3-a7a8533f1eab"
      },
      "execution_count": 9,
      "outputs": [
        {
          "output_type": "stream",
          "name": "stdout",
          "text": [
            "*\n",
            "**\n",
            "***\n",
            "**\n",
            "*\n",
            "\n"
          ]
        }
      ]
    },
    {
      "cell_type": "code",
      "source": [
        ""
      ],
      "metadata": {
        "id": "vM1x_v3elc7U"
      },
      "execution_count": 9,
      "outputs": []
    }
  ]
}