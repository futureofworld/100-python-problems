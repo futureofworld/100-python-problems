{
  "nbformat": 4,
  "nbformat_minor": 0,
  "metadata": {
    "colab": {
      "name": "41-50python_practice_problems.ipynb",
      "provenance": [],
      "authorship_tag": "ABX9TyOe4vs5qUtBnHsiv8brmMbl"
    },
    "kernelspec": {
      "name": "python3",
      "display_name": "Python 3"
    },
    "language_info": {
      "name": "python"
    }
  },
  "cells": [
    {
      "cell_type": "markdown",
      "source": [
        "# Q41. Write  a program to print the following pattern\n",
        "```\n",
        "        *\n",
        "      * * *\n",
        "    * * * * *\n",
        "  * * * * * * *\n",
        "* * * * * * * * *\n",
        "```\n",
        "\n"
      ],
      "metadata": {
        "id": "4IGYkFFin27h"
      }
    },
    {
      "cell_type": "code",
      "execution_count": 1,
      "metadata": {
        "colab": {
          "base_uri": "https://localhost:8080/"
        },
        "id": "sbHUzWAun19b",
        "outputId": "fb48f6d6-c244-4439-e386-fb1dc15ab8bf"
      },
      "outputs": [
        {
          "output_type": "stream",
          "name": "stdout",
          "text": [
            "            * \n",
            "          * * * \n",
            "        * * * * * \n",
            "      * * * * * * * \n",
            "    * * * * * * * * * \n"
          ]
        }
      ],
      "source": [
        "height = 5\n",
        "for i in range(height):\n",
        "    for j in range(height-i+1):\n",
        "        print(' ', end=' ')\n",
        "    for j in range(2*i + 1):\n",
        "        print('*', end=' ')\n",
        "    print('')\n"
      ]
    },
    {
      "cell_type": "markdown",
      "source": [
        "# Q42. Write a program to print the following pattern\n",
        "```\n",
        "1\n",
        "1 2 1\n",
        "1 2 3 2 1\n",
        "1 2 3 4 3 2 1\n",
        "1 2 3 4 5 4 3 2 1\n",
        "```\n",
        "\n"
      ],
      "metadata": {
        "id": "T_gpHDa9pvw_"
      }
    },
    {
      "cell_type": "code",
      "source": [
        "height = 5\n",
        "for i in range(height):\n",
        "    for j in range(i + 1):\n",
        "        print(j+1, end =' ')\n",
        "    for j in range(i):\n",
        "        print(i-j, end =' ')\n",
        "    print('')"
      ],
      "metadata": {
        "colab": {
          "base_uri": "https://localhost:8080/"
        },
        "id": "laBft6wep4_g",
        "outputId": "66503c18-3174-43b3-9d1e-e7eed3c8b95d"
      },
      "execution_count": 2,
      "outputs": [
        {
          "output_type": "stream",
          "name": "stdout",
          "text": [
            "1 \n",
            "1 2 1 \n",
            "1 2 3 2 1 \n",
            "1 2 3 4 3 2 1 \n",
            "1 2 3 4 5 4 3 2 1 \n"
          ]
        }
      ]
    },
    {
      "cell_type": "markdown",
      "source": [
        "# Q43. Write a program to print the following pattern\n",
        "```\n",
        "1\n",
        "2 3\n",
        "4 5 6\n",
        "7 8 9 10\n",
        "```\n",
        "\n",
        "\n"
      ],
      "metadata": {
        "id": "iY4hxy1QsA-f"
      }
    },
    {
      "cell_type": "code",
      "source": [
        "height = 4\n",
        "num = 1\n",
        "for i in range(height):\n",
        "    for j in range(i+1):\n",
        "        print(num, end=' ')\n",
        "        num+=1\n",
        "    print('')"
      ],
      "metadata": {
        "colab": {
          "base_uri": "https://localhost:8080/"
        },
        "id": "Ra_Oa-03sHlW",
        "outputId": "2192a818-0129-4241-9e20-d3375795ca04"
      },
      "execution_count": 3,
      "outputs": [
        {
          "output_type": "stream",
          "name": "stdout",
          "text": [
            "1 \n",
            "2 3 \n",
            "4 5 6 \n",
            "7 8 9 10 \n"
          ]
        }
      ]
    },
    {
      "cell_type": "markdown",
      "source": [
        "# Q44. Write a program to calculate the sum of the following series till the nth term\n",
        "# 1/1! + 2/2! + 3/3! + 4/4! +…….+ n/n!\n",
        "# n will be provided by the user"
      ],
      "metadata": {
        "id": "xY5Ma9_esq-c"
      }
    },
    {
      "cell_type": "code",
      "source": [
        "num = int(input('Enter a number: '))\n",
        "def factorial(num):\n",
        "    if num == 1:\n",
        "        return 1\n",
        "    return num * factorial(num-1)\n",
        "\n",
        "sum = 0\n",
        "for i in range(num):\n",
        "    divide = (i+1)/factorial(i+1)\n",
        "    sum += divide\n",
        "\n",
        "print(f'1/1! + 2/2! +...+ {num}/{num}! = {sum}')\n"
      ],
      "metadata": {
        "colab": {
          "base_uri": "https://localhost:8080/"
        },
        "id": "td6xfZdXsyl1",
        "outputId": "8ef8885a-4580-4f1c-a8ea-a2f13ac6cf7e"
      },
      "execution_count": 4,
      "outputs": [
        {
          "output_type": "stream",
          "name": "stdout",
          "text": [
            "Enter a number: 5\n",
            "1/1! + 2/2! +...+ 5/5! = 2.708333333333333\n"
          ]
        }
      ]
    },
    {
      "cell_type": "markdown",
      "source": [
        "# Q45. Write a Python Program to Find the Sum of the Series till the nth term: \n",
        "# 1 + x^2/2 + x^3/3 + … x^n/n\n",
        "# n will be provided by the user\n"
      ],
      "metadata": {
        "id": "QuzJVYr_w7sp"
      }
    },
    {
      "cell_type": "code",
      "source": [
        "num = int(input('Enter power: '))\n",
        "x = int(input('Enter a number: '))\n",
        "\n",
        "sum = 1\n",
        "for i in range(2, num+1):\n",
        "    sum = x**i/i\n",
        "\n",
        "print(f'1 + {x}^2/2 +...+ {x}^{num}/{num} = {sum}')"
      ],
      "metadata": {
        "colab": {
          "base_uri": "https://localhost:8080/"
        },
        "id": "KbyND_GhxJYZ",
        "outputId": "99def4ca-ebb1-45be-ff8b-08a3afde8f91"
      },
      "execution_count": 5,
      "outputs": [
        {
          "output_type": "stream",
          "name": "stdout",
          "text": [
            "Enter power: 5\n",
            "Enter a number: 2\n",
            "1 + 2^2/2 +...+ 2^5/5 = 6.4\n"
          ]
        }
      ]
    }
  ]
}