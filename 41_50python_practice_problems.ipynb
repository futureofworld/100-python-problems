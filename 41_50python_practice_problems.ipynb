{
  "nbformat": 4,
  "nbformat_minor": 0,
  "metadata": {
    "colab": {
      "name": "41-50python_practice_problems.ipynb",
      "provenance": [],
      "authorship_tag": "ABX9TyNzhS/js5Sry2c4mzGvDx8Y"
    },
    "kernelspec": {
      "name": "python3",
      "display_name": "Python 3"
    },
    "language_info": {
      "name": "python"
    }
  },
  "cells": [
    {
      "cell_type": "markdown",
      "source": [
        "#Q51. Count the frequency of a particular character in a provided string. Eg 'hello how are you' is the string, the frequency of h in this string is 2."
      ],
      "metadata": {
        "id": "kbunGGtOj9VT"
      }
    },
    {
      "cell_type": "code",
      "execution_count": 1,
      "metadata": {
        "colab": {
          "base_uri": "https://localhost:8080/"
        },
        "id": "zYzuzctXj7EA",
        "outputId": "f8a91a6c-f7d1-4a40-dd53-6035e1d2141f"
      },
      "outputs": [
        {
          "output_type": "stream",
          "name": "stdout",
          "text": [
            "h in string is 2\n"
          ]
        }
      ],
      "source": [
        "string = 'hello how are you'\n",
        "char = 'h'\n",
        "\n",
        "dic = dict()\n",
        "for i in string:\n",
        "    if i not in dic:\n",
        "        dic[i] = 1\n",
        "    else:\n",
        "        dic[i] += 1\n",
        "\n",
        "print(f'{char} in string is {dic[char]}')"
      ]
    },
    {
      "cell_type": "markdown",
      "source": [
        "# Q52. Find the index position of a particular character in another string"
      ],
      "metadata": {
        "id": "l_SgdF5ckuUC"
      }
    },
    {
      "cell_type": "code",
      "source": [
        "string = 'hello how are you'\n",
        "char = 'h'\n",
        "pos = 0\n",
        "for i in string:\n",
        "    if i == char:\n",
        "        print(pos)\n",
        "    pos += 1"
      ],
      "metadata": {
        "colab": {
          "base_uri": "https://localhost:8080/"
        },
        "id": "eQIWyvijkxRJ",
        "outputId": "75ed64f7-6236-4e91-8b2d-49b71fc82740"
      },
      "execution_count": 2,
      "outputs": [
        {
          "output_type": "stream",
          "name": "stdout",
          "text": [
            "0\n",
            "6\n"
          ]
        }
      ]
    },
    {
      "cell_type": "markdown",
      "source": [
        "# Q53. Count the number of vowels in a string provided by the user."
      ],
      "metadata": {
        "id": "APDQp9ztlSLZ"
      }
    },
    {
      "cell_type": "code",
      "source": [
        "vowels = {'a':0, 'e':0, 'i':0, 'o':0, 'u':0}\n",
        "\n",
        "string = input('Enter a sentence: ')\n",
        "\n",
        "for i in string.lower():\n",
        "    if i in vowels.keys():\n",
        "        vowels[i] += 1\n",
        "print(vowels) "
      ],
      "metadata": {
        "colab": {
          "base_uri": "https://localhost:8080/"
        },
        "id": "vF4BL5pmlUTJ",
        "outputId": "7943c0ca-8ffc-4f78-9801-adebeb422325"
      },
      "execution_count": 3,
      "outputs": [
        {
          "output_type": "stream",
          "name": "stdout",
          "text": [
            "Enter a sentence: hello how are you\n",
            "{'a': 1, 'e': 2, 'i': 0, 'o': 3, 'u': 1}\n"
          ]
        }
      ]
    },
    {
      "cell_type": "markdown",
      "source": [
        "# Q54. Write a program which can remove a particular character from a string."
      ],
      "metadata": {
        "id": "lkU4Q3mGoE5f"
      }
    },
    {
      "cell_type": "code",
      "source": [
        "string = 'hello how are you'\n",
        "char = 'h'\n",
        "string = string.replace(char, '')\n",
        "print(string)"
      ],
      "metadata": {
        "colab": {
          "base_uri": "https://localhost:8080/"
        },
        "id": "eOVnMZoonMOo",
        "outputId": "94e3009a-f554-4fea-dd81-f83bdf57ef2f"
      },
      "execution_count": 4,
      "outputs": [
        {
          "output_type": "stream",
          "name": "stdout",
          "text": [
            "ello ow are you\n"
          ]
        }
      ]
    },
    {
      "cell_type": "markdown",
      "source": [
        "# Q55. Write a program that can check whether a given string is palindrome or not."
      ],
      "metadata": {
        "id": "hh2mOMPHopHX"
      }
    },
    {
      "cell_type": "code",
      "source": [
        "string = 'malayalam'\n",
        "for i in range(len(string)):\n",
        "    if (string[i] != string[-(i+1)]):\n",
        "        print('Not a Pallindrome')\n",
        "\n",
        "print('Pallindrome')"
      ],
      "metadata": {
        "colab": {
          "base_uri": "https://localhost:8080/"
        },
        "id": "xLFEQc3LoroF",
        "outputId": "ea3f48ad-762b-4673-c911-bba5ffdad800"
      },
      "execution_count": 5,
      "outputs": [
        {
          "output_type": "stream",
          "name": "stdout",
          "text": [
            "Pallindrome\n"
          ]
        }
      ]
    }
  ]
}