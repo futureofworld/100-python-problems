{
  "nbformat": 4,
  "nbformat_minor": 0,
  "metadata": {
    "colab": {
      "name": "41-50python_practice_problems.ipynb",
      "provenance": [],
      "authorship_tag": "ABX9TyOSnidJ9R/FtSHSjM4GxGmH"
    },
    "kernelspec": {
      "name": "python3",
      "display_name": "Python 3"
    },
    "language_info": {
      "name": "python"
    }
  },
  "cells": [
    {
      "cell_type": "markdown",
      "source": [
        "# Q41. Write  a program to print the following pattern\n",
        "```\n",
        "        *\n",
        "      * * *\n",
        "    * * * * *\n",
        "  * * * * * * *\n",
        "* * * * * * * * *\n",
        "```\n",
        "\n"
      ],
      "metadata": {
        "id": "4IGYkFFin27h"
      }
    },
    {
      "cell_type": "code",
      "execution_count": 1,
      "metadata": {
        "colab": {
          "base_uri": "https://localhost:8080/"
        },
        "id": "sbHUzWAun19b",
        "outputId": "06d1f67d-7bf8-4e58-ef9a-23f70f06bc89"
      },
      "outputs": [
        {
          "output_type": "stream",
          "name": "stdout",
          "text": [
            "            * \n",
            "          * * * \n",
            "        * * * * * \n",
            "      * * * * * * * \n",
            "    * * * * * * * * * \n"
          ]
        }
      ],
      "source": [
        "height = 5\n",
        "for i in range(height):\n",
        "    for j in range(height-i+1):\n",
        "        print(' ', end=' ')\n",
        "    for j in range(2*i + 1):\n",
        "        print('*', end=' ')\n",
        "    print('')\n"
      ]
    },
    {
      "cell_type": "markdown",
      "source": [
        "# Q42. Write a program to print the following pattern\n",
        "```\n",
        "1\n",
        "1 2 1\n",
        "1 2 3 2 1\n",
        "1 2 3 4 3 2 1\n",
        "1 2 3 4 5 4 3 2 1\n",
        "```\n",
        "\n"
      ],
      "metadata": {
        "id": "T_gpHDa9pvw_"
      }
    },
    {
      "cell_type": "code",
      "source": [
        "height = 5\n",
        "for i in range(height):\n",
        "    for j in range(i + 1):\n",
        "        print(j+1, end =' ')\n",
        "    for j in range(i):\n",
        "        print(i-j, end =' ')\n",
        "    print('')"
      ],
      "metadata": {
        "colab": {
          "base_uri": "https://localhost:8080/"
        },
        "id": "laBft6wep4_g",
        "outputId": "1fa1c910-6688-492f-86ff-b91362dbc3ec"
      },
      "execution_count": 2,
      "outputs": [
        {
          "output_type": "stream",
          "name": "stdout",
          "text": [
            "1 \n",
            "1 2 1 \n",
            "1 2 3 2 1 \n",
            "1 2 3 4 3 2 1 \n",
            "1 2 3 4 5 4 3 2 1 \n"
          ]
        }
      ]
    },
    {
      "cell_type": "markdown",
      "source": [
        "# Q43. Write a program to print the following pattern\n",
        "```\n",
        "1\n",
        "2 3\n",
        "4 5 6\n",
        "7 8 9 10\n",
        "```\n",
        "\n",
        "\n"
      ],
      "metadata": {
        "id": "iY4hxy1QsA-f"
      }
    },
    {
      "cell_type": "code",
      "source": [
        "height = 4\n",
        "num = 1\n",
        "for i in range(height):\n",
        "    for j in range(i+1):\n",
        "        print(num, end=' ')\n",
        "        num+=1\n",
        "    print('')"
      ],
      "metadata": {
        "colab": {
          "base_uri": "https://localhost:8080/"
        },
        "id": "Ra_Oa-03sHlW",
        "outputId": "d7802db6-1316-4295-aab0-5ad7e1facac2"
      },
      "execution_count": 3,
      "outputs": [
        {
          "output_type": "stream",
          "name": "stdout",
          "text": [
            "1 \n",
            "2 3 \n",
            "4 5 6 \n",
            "7 8 9 10 \n"
          ]
        }
      ]
    },
    {
      "cell_type": "markdown",
      "source": [
        "# Q44. Write a program to calculate the sum of the following series till the nth term\n",
        "# 1/1! + 2/2! + 3/3! + 4/4! +…….+ n/n!\n",
        "# n will be provided by the user"
      ],
      "metadata": {
        "id": "xY5Ma9_esq-c"
      }
    },
    {
      "cell_type": "code",
      "source": [
        "num = int(input('Enter a number: '))\n",
        "def factorial(num):\n",
        "    if num == 1:\n",
        "        return 1\n",
        "    return num * factorial(num-1)\n",
        "\n",
        "sum = 0\n",
        "for i in range(num):\n",
        "    divide = (i+1)/factorial(i+1)\n",
        "    sum += divide\n",
        "\n",
        "print(f'1/1! + 2/2! +...+ {num}/{num}! = {sum}')\n"
      ],
      "metadata": {
        "colab": {
          "base_uri": "https://localhost:8080/"
        },
        "id": "td6xfZdXsyl1",
        "outputId": "72fbce87-f108-41c3-834c-6e2a9e6826d8"
      },
      "execution_count": 4,
      "outputs": [
        {
          "output_type": "stream",
          "name": "stdout",
          "text": [
            "Enter a number: 5\n",
            "1/1! + 2/2! +...+ 5/5! = 2.708333333333333\n"
          ]
        }
      ]
    },
    {
      "cell_type": "markdown",
      "source": [
        "# Q45. Write a Python Program to Find the Sum of the Series till the nth term: \n",
        "# 1 + x^2/2 + x^3/3 + … x^n/n\n",
        "# n will be provided by the user\n"
      ],
      "metadata": {
        "id": "QuzJVYr_w7sp"
      }
    },
    {
      "cell_type": "code",
      "source": [
        "num = int(input('Enter power: '))\n",
        "x = int(input('Enter a number: '))\n",
        "\n",
        "sum = 1\n",
        "for i in range(2, num+1):\n",
        "    sum = x**i/i\n",
        "\n",
        "print(f'1 + {x}^2/2 +...+ {x}^{num}/{num} = {sum}')"
      ],
      "metadata": {
        "colab": {
          "base_uri": "https://localhost:8080/"
        },
        "id": "KbyND_GhxJYZ",
        "outputId": "fafa5d9f-d3e0-4355-97e6-7584cf06cf32"
      },
      "execution_count": 5,
      "outputs": [
        {
          "output_type": "stream",
          "name": "stdout",
          "text": [
            "Enter power: 5\n",
            "Enter a number: 2\n",
            "1 + 2^2/2 +...+ 2^5/5 = 6.4\n"
          ]
        }
      ]
    },
    {
      "cell_type": "markdown",
      "source": [
        "# Q46. The natural logarithm can be approximated by the following series.\n",
        "\n",
        "\n",
        "# $\\frac{x-1}{x} + \\frac{1}{2}(\\frac{x-1}{x})^2 + \\frac{1}{2}(\\frac{x-1}{x})^3 + ...$\n",
        "\n",
        "\n",
        "# If x is input through the keyboard, write a program to calculate the sum of the first seven terms of this series.\n"
      ],
      "metadata": {
        "id": "tIg9KnBX7GQX"
      }
    },
    {
      "cell_type": "code",
      "source": [
        "x = int(input('Enter a number: '))\n",
        "sum = (x-1)/x\n",
        "for i in range(2, 8):\n",
        "    sum += 0.5* (((x-1)/x)**i)\n",
        "\n",
        "print(f'natural logarithm of {x} is {sum:.2f}')"
      ],
      "metadata": {
        "colab": {
          "base_uri": "https://localhost:8080/"
        },
        "id": "IypLAXGK9tr8",
        "outputId": "94388df2-f7c7-4b6b-d3df-27d2ba914b77"
      },
      "execution_count": 6,
      "outputs": [
        {
          "output_type": "stream",
          "name": "stdout",
          "text": [
            "Enter a number: 2\n",
            "natural logarithm of 2 is 0.75\n"
          ]
        }
      ]
    },
    {
      "cell_type": "markdown",
      "source": [
        "# Q47. Write a program that keeps on accepting a number from the user until the user enters Zero. Display the sum and average of all the numbers."
      ],
      "metadata": {
        "id": "nNQo_F9y-4Ms"
      }
    },
    {
      "cell_type": "code",
      "source": [
        "num = input('Enter a number: ')\n",
        "lst = []\n",
        "while num != 'Zero':\n",
        "    lst.append(int(num))\n",
        "    num = input('Enter a number: ')\n",
        "\n",
        "sum = 0\n",
        "for i in lst:\n",
        "    sum += i\n",
        "\n",
        "mean = sum/len(lst)\n",
        "print(f'sum of {lst} is {sum}')\n",
        "print(f'average of {lst} is {mean}')"
      ],
      "metadata": {
        "colab": {
          "base_uri": "https://localhost:8080/"
        },
        "id": "L5DdF4Cd-69M",
        "outputId": "5280796f-74bf-4468-cc2e-af28d6e8f59c"
      },
      "execution_count": 7,
      "outputs": [
        {
          "output_type": "stream",
          "name": "stdout",
          "text": [
            "Enter a number: 1\n",
            "Enter a number: 2\n",
            "Enter a number: 3\n",
            "Enter a number: 4\n",
            "Enter a number: Zero\n",
            "sum of [1, 2, 3, 4] is 10\n",
            "average of [1, 2, 3, 4] is 2.5\n"
          ]
        }
      ]
    },
    {
      "cell_type": "markdown",
      "source": [
        "# Q48. Write a program that accepts 2 numbers from the user a numerator and a denominator and then simplifies it\n",
        "# Eg if the num = 5, den = 15 the answer should be $\\frac{1}{3}$\n",
        "# Eg if the num = 6, den = 9 the answer should be $\\frac{2}{3}$\n"
      ],
      "metadata": {
        "id": "ygjIIj0RD6Gn"
      }
    },
    {
      "cell_type": "code",
      "source": [
        "from fractions import Fraction as frac\n",
        "\n",
        "num = int(input('Enter Numerator: '))\n",
        "den = int(input('Enter Denominator: '))\n",
        "\n",
        "print(f'Ratio of {num} and {den} is {frac(num, den)}')"
      ],
      "metadata": {
        "colab": {
          "base_uri": "https://localhost:8080/"
        },
        "id": "PXaMFNHIBnui",
        "outputId": "249ce264-b914-4328-b783-2842b89dc2ba"
      },
      "execution_count": 8,
      "outputs": [
        {
          "output_type": "stream",
          "name": "stdout",
          "text": [
            "Enter Numerator: 2\n",
            "Enter Denominator: 6\n",
            "Ratio of 2 and 6 is 1/3\n"
          ]
        }
      ]
    },
    {
      "cell_type": "markdown",
      "source": [
        "# Q49. Find the length of a given string without using the len() function."
      ],
      "metadata": {
        "id": "vTE6MomIE2be"
      }
    },
    {
      "cell_type": "code",
      "source": [
        "string = 'Python'\n",
        "sum = 0\n",
        "for i in string:\n",
        "    sum +=1\n",
        "\n",
        "print(f'{string} has {sum} characters')"
      ],
      "metadata": {
        "colab": {
          "base_uri": "https://localhost:8080/"
        },
        "id": "rPQZCm_RE5se",
        "outputId": "d797b92c-8bc5-41fc-92b1-78f5e2587060"
      },
      "execution_count": 9,
      "outputs": [
        {
          "output_type": "stream",
          "name": "stdout",
          "text": [
            "Python has 6 characters\n"
          ]
        }
      ]
    },
    {
      "cell_type": "markdown",
      "source": [
        "# Q50. Extract username from a given email. \n",
        "# Eg if the email is nitish24singh@gmail.com then the username should be nitish24singh"
      ],
      "metadata": {
        "id": "DI5nOGSpFOXl"
      }
    },
    {
      "cell_type": "code",
      "source": [
        "email = 'nitish24singh@gmail.com'\n",
        "username = email.split('@')[0]\n",
        "print(f'username of {email} is {username}')"
      ],
      "metadata": {
        "colab": {
          "base_uri": "https://localhost:8080/"
        },
        "id": "2YUQAZmVFR58",
        "outputId": "b0fc1ef3-a814-4cbd-c253-9a4fad7da2d4"
      },
      "execution_count": 10,
      "outputs": [
        {
          "output_type": "stream",
          "name": "stdout",
          "text": [
            "username of nitish24singh@gmail.com is nitish24singh\n"
          ]
        }
      ]
    }
  ]
}