{
  "nbformat": 4,
  "nbformat_minor": 0,
  "metadata": {
    "colab": {
      "name": "21-30python_practice_problems.ipynb",
      "provenance": [],
      "authorship_tag": "ABX9TyMPZRWqGAkb7fRBe01TjPdx"
    },
    "kernelspec": {
      "name": "python3",
      "display_name": "Python 3"
    },
    "language_info": {
      "name": "python"
    }
  },
  "cells": [
    {
      "cell_type": "markdown",
      "source": [
        "# Q21. Write a program that will swap numbers"
      ],
      "metadata": {
        "id": "9D5rTakL1I4u"
      }
    },
    {
      "cell_type": "code",
      "execution_count": 1,
      "metadata": {
        "colab": {
          "base_uri": "https://localhost:8080/"
        },
        "id": "ceiRIArc09yO",
        "outputId": "66e642bb-f022-40b4-8cad-5cccc405aa3b"
      },
      "outputs": [
        {
          "output_type": "stream",
          "name": "stdout",
          "text": [
            "before swapping a = 10 and b = 20\n",
            "after swapping a = 20 and b = 10\n"
          ]
        }
      ],
      "source": [
        "a = 10\n",
        "b = 20\n",
        "\n",
        "def swap (a, b):\n",
        "    temp = a\n",
        "    a = b\n",
        "    b = temp\n",
        "    return a, b\n",
        "\n",
        "print(f'before swapping a = {a} and b = {b}')\n",
        "a, b = swap(a, b)\n",
        "print(f'after swapping a = {a} and b = {b}')"
      ]
    },
    {
      "cell_type": "markdown",
      "source": [
        "# Q22. Write a program to find the sum of first n numbers, where n will be provided by the user. Eg if the user provides n=10 the output should be 55."
      ],
      "metadata": {
        "id": "FWh2LoYI1xMz"
      }
    },
    {
      "cell_type": "code",
      "source": [
        "num = int(input('Enter a number: '))\n",
        "\n",
        "def sum(num):\n",
        "    sumOfNaturalNum = (num*(num+1))/2\n",
        "    return sumOfNaturalNum\n",
        "\n",
        "print(f'Sum of first {num} natural numbers is {sum(num)}')"
      ],
      "metadata": {
        "colab": {
          "base_uri": "https://localhost:8080/"
        },
        "id": "rIq9zpi41zvj",
        "outputId": "cccd0e85-5a20-4e1c-dd33-68d22f10a0dd"
      },
      "execution_count": 2,
      "outputs": [
        {
          "output_type": "stream",
          "name": "stdout",
          "text": [
            "Enter a number: 10\n",
            "Sum of first 10 natural numbers is 55.0\n"
          ]
        }
      ]
    },
    {
      "cell_type": "markdown",
      "source": [
        "# Q23. Write a program that can multiply 2 numbers provided by the user without using the * operator"
      ],
      "metadata": {
        "id": "Qyd8Iock2Xbs"
      }
    },
    {
      "cell_type": "code",
      "source": [
        "num1 = int(input('Enter first number: '))\n",
        "num2 = int(input('Enter second number: '))\n",
        "\n",
        "mul = 0\n",
        "if num1<num2:\n",
        "    for i in range(num1):\n",
        "        mul += num2\n",
        "else:\n",
        "    for i in range(num2):\n",
        "        mul += num1\n",
        "\n",
        "print(f'{num1} x {num2} = {mul}')"
      ],
      "metadata": {
        "colab": {
          "base_uri": "https://localhost:8080/"
        },
        "id": "UtIcyjvD2h9T",
        "outputId": "8e59def3-37eb-474c-e301-598418e14ea6"
      },
      "execution_count": 3,
      "outputs": [
        {
          "output_type": "stream",
          "name": "stdout",
          "text": [
            "Enter first number: 3\n",
            "Enter second number: 2\n",
            "3 x 2 = 6\n"
          ]
        }
      ]
    },
    {
      "cell_type": "markdown",
      "source": [
        "# Q24. Write a program that can find the factorial of a given number provided by the user."
      ],
      "metadata": {
        "id": "xoeEnxYJ3Q7C"
      }
    },
    {
      "cell_type": "code",
      "source": [
        "num = int(input('Enter a number: '))\n",
        "\n",
        "def factorial(num):\n",
        "    if num == 1:\n",
        "        return 1\n",
        "    return num * factorial(num-1)\n",
        "\n",
        "print(f'Factorial of {num} is {factorial(num)}')"
      ],
      "metadata": {
        "colab": {
          "base_uri": "https://localhost:8080/"
        },
        "id": "-xdyeF0V3Wda",
        "outputId": "4c21112f-9e3a-44ca-ac68-9b1ff7c8d9a9"
      },
      "execution_count": 4,
      "outputs": [
        {
          "output_type": "stream",
          "name": "stdout",
          "text": [
            "Enter a number: 5\n",
            "Factorial of 5 is 120\n"
          ]
        }
      ]
    },
    {
      "cell_type": "markdown",
      "source": [
        "# Q25. Write a program to print the first 25 odd numbers"
      ],
      "metadata": {
        "id": "3QgcuWrD31Bq"
      }
    },
    {
      "cell_type": "code",
      "source": [
        "def printOdd():\n",
        "    for i in range(50):\n",
        "        if i%2 != 0:\n",
        "            print(i)\n",
        "\n",
        "print('first 25 odd numbers are:')\n",
        "printOdd()"
      ],
      "metadata": {
        "colab": {
          "base_uri": "https://localhost:8080/"
        },
        "id": "RtcPcDaf3306",
        "outputId": "8298587a-a959-4c6f-c554-d7131d643818"
      },
      "execution_count": 5,
      "outputs": [
        {
          "output_type": "stream",
          "name": "stdout",
          "text": [
            "first 25 odd numbers are:\n",
            "1\n",
            "3\n",
            "5\n",
            "7\n",
            "9\n",
            "11\n",
            "13\n",
            "15\n",
            "17\n",
            "19\n",
            "21\n",
            "23\n",
            "25\n",
            "27\n",
            "29\n",
            "31\n",
            "33\n",
            "35\n",
            "37\n",
            "39\n",
            "41\n",
            "43\n",
            "45\n",
            "47\n",
            "49\n"
          ]
        }
      ]
    },
    {
      "cell_type": "markdown",
      "source": [
        "# Q26. Write a program to print whether a given number is prime number or not"
      ],
      "metadata": {
        "id": "OFdCmbFx4eaJ"
      }
    },
    {
      "cell_type": "code",
      "source": [
        "num = 13\n",
        "\n",
        "def isPrime(num):\n",
        "    for i in range(2, num):\n",
        "        if num%i == 0:\n",
        "            print(f'{num} is not a prime number')\n",
        "            break\n",
        "        if i == num-1:\n",
        "            print(f'{num} is a prime number')\n",
        "\n",
        "isPrime(num)"
      ],
      "metadata": {
        "colab": {
          "base_uri": "https://localhost:8080/"
        },
        "id": "f8kD0l_t4iZR",
        "outputId": "3385a647-46af-47c0-a059-ce14b51683d4"
      },
      "execution_count": 6,
      "outputs": [
        {
          "output_type": "stream",
          "name": "stdout",
          "text": [
            "13 is a prime number\n"
          ]
        }
      ]
    },
    {
      "cell_type": "markdown",
      "source": [
        "# Q27. Print all the armstrong numbers in the range of 100 to 1000"
      ],
      "metadata": {
        "id": "BTfHCcVi72N-"
      }
    },
    {
      "cell_type": "code",
      "source": [
        "def armstrong(num):\n",
        "    if num<10:\n",
        "        return num**3\n",
        "    return (num%10)**3 + armstrong(num//10)\n",
        "\n",
        "for i in range(100, 1000):\n",
        "    if i == armstrong(i):\n",
        "        print(i)"
      ],
      "metadata": {
        "colab": {
          "base_uri": "https://localhost:8080/"
        },
        "id": "MEfBh_Tk74ol",
        "outputId": "28aaf8cd-f576-4891-eb9f-2e82f6fb6210"
      },
      "execution_count": 7,
      "outputs": [
        {
          "output_type": "stream",
          "name": "stdout",
          "text": [
            "153\n",
            "370\n",
            "371\n",
            "407\n"
          ]
        }
      ]
    },
    {
      "cell_type": "markdown",
      "source": [
        "# Q28. The current population of a town is 10000. The population of the town is increasing at the rate of 10% per year. You have to write a program to find out the population at the end of each of the last 10 years. For eg current population is 10000 so the output should be like this:\n",
        "# 10th year - 10000\n",
        "# 9th year - 9000\n",
        "# 8th year - 8100 and so on"
      ],
      "metadata": {
        "id": "pll_jfxw8aol"
      }
    },
    {
      "cell_type": "code",
      "source": [
        "i=10\n",
        "current_population = 10000\n",
        "while i>=0:\n",
        "    print(f'{i}th year {current_population:.0f}') # as the population cannot be in decimal round it off\n",
        "    current_population -= current_population/10\n",
        "    i-=1"
      ],
      "metadata": {
        "colab": {
          "base_uri": "https://localhost:8080/"
        },
        "id": "60mEy6RL8lo9",
        "outputId": "fb574954-aaff-45ac-bae5-ca0a974023d5"
      },
      "execution_count": 8,
      "outputs": [
        {
          "output_type": "stream",
          "name": "stdout",
          "text": [
            "10th year 10000\n",
            "9th year 9000\n",
            "8th year 8100\n",
            "7th year 7290\n",
            "6th year 6561\n",
            "5th year 5905\n",
            "4th year 5314\n",
            "3th year 4783\n",
            "2th year 4305\n",
            "1th year 3874\n",
            "0th year 3487\n"
          ]
        }
      ]
    },
    {
      "cell_type": "markdown",
      "source": [
        "# Q29. Write a program to print all the unique combinations of 1,2,3 and 4"
      ],
      "metadata": {
        "id": "llMj6wMt-SIU"
      }
    },
    {
      "cell_type": "code",
      "source": [
        "num = [1,2,3,4]\n",
        "for i in range(4):\n",
        "    for j in range(4):\n",
        "        for k in range(4):\n",
        "            for l in range(4):\n",
        "                if (i!=j and i!=k and i!=l and j!=k and j!=l and k!=l):\n",
        "                    print(num[i], num[j], num[k], num[l])"
      ],
      "metadata": {
        "colab": {
          "base_uri": "https://localhost:8080/"
        },
        "id": "ORTGoYZy-Ul7",
        "outputId": "f8704c01-927a-4132-b786-e389e908da55"
      },
      "execution_count": 9,
      "outputs": [
        {
          "output_type": "stream",
          "name": "stdout",
          "text": [
            "1 2 3 4\n",
            "1 2 4 3\n",
            "1 3 2 4\n",
            "1 3 4 2\n",
            "1 4 2 3\n",
            "1 4 3 2\n",
            "2 1 3 4\n",
            "2 1 4 3\n",
            "2 3 1 4\n",
            "2 3 4 1\n",
            "2 4 1 3\n",
            "2 4 3 1\n",
            "3 1 2 4\n",
            "3 1 4 2\n",
            "3 2 1 4\n",
            "3 2 4 1\n",
            "3 4 1 2\n",
            "3 4 2 1\n",
            "4 1 2 3\n",
            "4 1 3 2\n",
            "4 2 1 3\n",
            "4 2 3 1\n",
            "4 3 1 2\n",
            "4 3 2 1\n"
          ]
        }
      ]
    },
    {
      "cell_type": "markdown",
      "source": [
        "# Q30. User will provide 2 numbers you have to find the HCF of those 2 numbers"
      ],
      "metadata": {
        "id": "yQjTQyTZBng5"
      }
    },
    {
      "cell_type": "code",
      "source": [
        "# a number is called hcf who divides both the numbers\n",
        "a = int(input('Enter a first number: '))\n",
        "b = int(input('Enter a second number: '))\n",
        "\n",
        "hcf = 1 # if none the number divides the a and b\n",
        "\n",
        "for i in range(2, a+1):\n",
        "    if (a%i==0 and b%i==0):\n",
        "        hcf = i\n",
        "\n",
        "print(f'HCF of {a} and {b} is {hcf}')"
      ],
      "metadata": {
        "colab": {
          "base_uri": "https://localhost:8080/"
        },
        "id": "YNcY_WxQBphw",
        "outputId": "d170ce7b-ec07-4a36-edd9-26e47f12d6cb"
      },
      "execution_count": 10,
      "outputs": [
        {
          "output_type": "stream",
          "name": "stdout",
          "text": [
            "Enter a first number: 360\n",
            "Enter a second number: 198\n",
            "HCF of 360 and 198 is 18\n"
          ]
        }
      ]
    }
  ]
}