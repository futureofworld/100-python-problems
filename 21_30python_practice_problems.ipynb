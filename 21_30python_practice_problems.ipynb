{
  "nbformat": 4,
  "nbformat_minor": 0,
  "metadata": {
    "colab": {
      "name": "21-30python_practice_problems.ipynb",
      "provenance": [],
      "authorship_tag": "ABX9TyMszlY1r3hzmwJx1Cbn3/I1"
    },
    "kernelspec": {
      "name": "python3",
      "display_name": "Python 3"
    },
    "language_info": {
      "name": "python"
    }
  },
  "cells": [
    {
      "cell_type": "markdown",
      "source": [
        "# Q21. Write a program that will swap numbers"
      ],
      "metadata": {
        "id": "9D5rTakL1I4u"
      }
    },
    {
      "cell_type": "code",
      "execution_count": 2,
      "metadata": {
        "colab": {
          "base_uri": "https://localhost:8080/"
        },
        "id": "ceiRIArc09yO",
        "outputId": "543b69f7-28bf-4da0-b5a3-9960dca8e0b2"
      },
      "outputs": [
        {
          "output_type": "stream",
          "name": "stdout",
          "text": [
            "before swapping a = 10 and b = 20\n",
            "after swapping a = 20 and b = 10\n"
          ]
        }
      ],
      "source": [
        "a = 10\n",
        "b = 20\n",
        "\n",
        "def swap (a, b):\n",
        "    temp = a\n",
        "    a = b\n",
        "    b = temp\n",
        "    return a, b\n",
        "\n",
        "print(f'before swapping a = {a} and b = {b}')\n",
        "a, b = swap(a, b)\n",
        "print(f'after swapping a = {a} and b = {b}')"
      ]
    },
    {
      "cell_type": "markdown",
      "source": [
        "# Q22. Write a program to find the sum of first n numbers, where n will be provided by the user. Eg if the user provides n=10 the output should be 55."
      ],
      "metadata": {
        "id": "FWh2LoYI1xMz"
      }
    },
    {
      "cell_type": "code",
      "source": [
        "num = int(input('Enter a number: '))\n",
        "\n",
        "def sum(num):\n",
        "    sumOfNaturalNum = (num*(num+1))/2\n",
        "    return sumOfNaturalNum\n",
        "\n",
        "print(f'Sum of first {num} natural numbers is {sum(num)}')"
      ],
      "metadata": {
        "colab": {
          "base_uri": "https://localhost:8080/"
        },
        "id": "rIq9zpi41zvj",
        "outputId": "4548a2cc-187a-40c1-b64d-083c5235a5e3"
      },
      "execution_count": 4,
      "outputs": [
        {
          "output_type": "stream",
          "name": "stdout",
          "text": [
            "Enter a number: 10\n",
            "Sum of first 10 natural numbers is 55.0\n"
          ]
        }
      ]
    },
    {
      "cell_type": "markdown",
      "source": [
        "# Q23. Write a program that can multiply 2 numbers provided by the user without using the * operator"
      ],
      "metadata": {
        "id": "Qyd8Iock2Xbs"
      }
    },
    {
      "cell_type": "code",
      "source": [
        "num1 = int(input('Enter first number: '))\n",
        "num2 = int(input('Enter second number: '))\n",
        "\n",
        "mul = 0\n",
        "if num1<num2:\n",
        "    for i in range(num1):\n",
        "        mul += num2\n",
        "else:\n",
        "    for i in range(num2):\n",
        "        mul += num1\n",
        "\n",
        "print(f'{num1} x {num2} = {mul}')"
      ],
      "metadata": {
        "colab": {
          "base_uri": "https://localhost:8080/"
        },
        "id": "UtIcyjvD2h9T",
        "outputId": "c97a66dc-6362-427f-b03f-ff351898e717"
      },
      "execution_count": 5,
      "outputs": [
        {
          "output_type": "stream",
          "name": "stdout",
          "text": [
            "Enter first number: 3\n",
            "Enter second number: 2\n",
            "3 x 2 = 6\n"
          ]
        }
      ]
    },
    {
      "cell_type": "markdown",
      "source": [
        "# Q24. Write a program that can find the factorial of a given number provided by the user."
      ],
      "metadata": {
        "id": "xoeEnxYJ3Q7C"
      }
    },
    {
      "cell_type": "code",
      "source": [
        "num = int(input('Enter a number: '))\n",
        "\n",
        "def factorial(num):\n",
        "    if num == 1:\n",
        "        return 1\n",
        "    return num * factorial(num-1)\n",
        "\n",
        "print(f'Factorial of {num} is {factorial(num)}')"
      ],
      "metadata": {
        "colab": {
          "base_uri": "https://localhost:8080/"
        },
        "id": "-xdyeF0V3Wda",
        "outputId": "c13e8441-3f2b-47a6-d7b3-ca07de8e0b7b"
      },
      "execution_count": 7,
      "outputs": [
        {
          "output_type": "stream",
          "name": "stdout",
          "text": [
            "Enter a number: 5\n",
            "Factorial of 5 is 120\n"
          ]
        }
      ]
    },
    {
      "cell_type": "markdown",
      "source": [
        "# Q25. Write a program to print the first 25 odd numbers"
      ],
      "metadata": {
        "id": "3QgcuWrD31Bq"
      }
    },
    {
      "cell_type": "code",
      "source": [
        "def printOdd():\n",
        "    for i in range(50):\n",
        "        if i%2 != 0:\n",
        "            print(i)\n",
        "\n",
        "print('first 25 odd numbers are:')\n",
        "printOdd()"
      ],
      "metadata": {
        "colab": {
          "base_uri": "https://localhost:8080/"
        },
        "id": "RtcPcDaf3306",
        "outputId": "46c81625-0397-4def-b1d4-5498abde4db7"
      },
      "execution_count": 8,
      "outputs": [
        {
          "output_type": "stream",
          "name": "stdout",
          "text": [
            "first 25 odd numbers are:\n",
            "1\n",
            "3\n",
            "5\n",
            "7\n",
            "9\n",
            "11\n",
            "13\n",
            "15\n",
            "17\n",
            "19\n",
            "21\n",
            "23\n",
            "25\n",
            "27\n",
            "29\n",
            "31\n",
            "33\n",
            "35\n",
            "37\n",
            "39\n",
            "41\n",
            "43\n",
            "45\n",
            "47\n",
            "49\n"
          ]
        }
      ]
    },
    {
      "cell_type": "markdown",
      "source": [
        "# Q26. Write a program to print whether a given number is prime number or not"
      ],
      "metadata": {
        "id": "OFdCmbFx4eaJ"
      }
    },
    {
      "cell_type": "code",
      "source": [
        "num = 13\n",
        "\n",
        "def isPrime(num):\n",
        "    for i in range(2, num):\n",
        "        if num%i == 0:\n",
        "            print(f'{num} is not a prime number')\n",
        "            break\n",
        "        if i == num-1:\n",
        "            print(f'{num} is a prime number')\n",
        "\n",
        "isPrime(num)"
      ],
      "metadata": {
        "colab": {
          "base_uri": "https://localhost:8080/"
        },
        "id": "f8kD0l_t4iZR",
        "outputId": "0a8db059-3b7a-4719-e926-b7f13677179a"
      },
      "execution_count": 11,
      "outputs": [
        {
          "output_type": "stream",
          "name": "stdout",
          "text": [
            "13 is a prime number\n"
          ]
        }
      ]
    }
  ]
}